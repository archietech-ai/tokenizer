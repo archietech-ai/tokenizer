{
  "cells": [
    {
      "cell_type": "markdown",
      "metadata": {
        "id": "view-in-github",
        "colab_type": "text"
      },
      "source": [
        "<a href=\"https://colab.research.google.com/github/archietech-ai/tokenizer/blob/main/Embeddings.ipynb\" target=\"_parent\"><img src=\"https://colab.research.google.com/assets/colab-badge.svg\" alt=\"Open In Colab\"/></a>"
      ]
    },
    {
      "cell_type": "markdown",
      "source": [
        "\n",
        "# 🧠 **Understanding Embeddings with BERT**\n",
        "\n",
        "In this notebook, we go into the world of embeddings, utilizing the BERT model to understand the semantic relationships between words in different contexts.\n",
        "\n",
        "## 🛠️ Setup and Installation\n",
        "\n",
        "Start by installing the necessary libraries to ensure all functionalities are available."
      ],
      "metadata": {
        "id": "yUuby3g8ouzm"
      }
    },
    {
      "cell_type": "code",
      "source": [
        "!pip install transformers\n",
        "!pip install scipy"
      ],
      "metadata": {
        "colab": {
          "base_uri": "https://localhost:8080/"
        },
        "id": "6C1auKaP5I93",
        "outputId": "0c609e35-0438-4c4a-e2f6-8ac70b47851f"
      },
      "execution_count": null,
      "outputs": [
        {
          "output_type": "stream",
          "name": "stdout",
          "text": [
            "Requirement already satisfied: transformers in /usr/local/lib/python3.10/dist-packages (4.29.2)\n",
            "Requirement already satisfied: filelock in /usr/local/lib/python3.10/dist-packages (from transformers) (3.16.1)\n",
            "Requirement already satisfied: huggingface-hub<1.0,>=0.14.1 in /usr/local/lib/python3.10/dist-packages (from transformers) (0.26.5)\n",
            "Requirement already satisfied: numpy>=1.17 in /usr/local/lib/python3.10/dist-packages (from transformers) (1.22.4)\n",
            "Requirement already satisfied: packaging>=20.0 in /usr/local/lib/python3.10/dist-packages (from transformers) (24.2)\n",
            "Requirement already satisfied: pyyaml>=5.1 in /usr/local/lib/python3.10/dist-packages (from transformers) (6.0.2)\n",
            "Requirement already satisfied: regex!=2019.12.17 in /usr/local/lib/python3.10/dist-packages (from transformers) (2024.9.11)\n",
            "Requirement already satisfied: requests in /usr/local/lib/python3.10/dist-packages (from transformers) (2.32.3)\n",
            "Requirement already satisfied: tokenizers!=0.11.3,<0.14,>=0.11.1 in /usr/local/lib/python3.10/dist-packages (from transformers) (0.13.3)\n",
            "Requirement already satisfied: tqdm>=4.27 in /usr/local/lib/python3.10/dist-packages (from transformers) (4.66.6)\n",
            "Requirement already satisfied: fsspec>=2023.5.0 in /usr/local/lib/python3.10/dist-packages (from huggingface-hub<1.0,>=0.14.1->transformers) (2024.10.0)\n",
            "Requirement already satisfied: typing-extensions>=3.7.4.3 in /usr/local/lib/python3.10/dist-packages (from huggingface-hub<1.0,>=0.14.1->transformers) (4.12.2)\n",
            "Requirement already satisfied: charset-normalizer<4,>=2 in /usr/local/lib/python3.10/dist-packages (from requests->transformers) (3.4.0)\n",
            "Requirement already satisfied: idna<4,>=2.5 in /usr/local/lib/python3.10/dist-packages (from requests->transformers) (3.10)\n",
            "Requirement already satisfied: urllib3<3,>=1.21.1 in /usr/local/lib/python3.10/dist-packages (from requests->transformers) (2.2.3)\n",
            "Requirement already satisfied: certifi>=2017.4.17 in /usr/local/lib/python3.10/dist-packages (from requests->transformers) (2024.8.30)\n",
            "Requirement already satisfied: scipy in /usr/local/lib/python3.10/dist-packages (1.7.3)\n",
            "Requirement already satisfied: numpy<1.23.0,>=1.16.5 in /usr/local/lib/python3.10/dist-packages (from scipy) (1.22.4)\n"
          ]
        }
      ]
    },
    {
      "cell_type": "markdown",
      "source": [
        "## 📚 Importing Libraries\n",
        "\n",
        "Import essential modules for our tasks."
      ],
      "metadata": {
        "id": "mpAjguA9o7tT"
      }
    },
    {
      "cell_type": "code",
      "source": [
        "from transformers import BertModel, AutoTokenizer\n",
        "from scipy.spatial.distance import cosine"
      ],
      "metadata": {
        "id": "DBwmRlXP5zY6"
      },
      "execution_count": null,
      "outputs": []
    },
    {
      "cell_type": "markdown",
      "source": [
        "## 🤖 Model Setup\n",
        "\n",
        "Load the pre-trained BERT model and tokenizer. This model will help us extract embeddings for our analysis."
      ],
      "metadata": {
        "id": "XsfQ55vto_Bd"
      }
    },
    {
      "cell_type": "code",
      "source": [
        "# Defining the model name\n",
        "model_name = \"bert-base-cased\"\n",
        "\n",
        "# Loading the pre-trained model and tokenizer\n",
        "model = BertModel.from_pretrained(model_name)\n",
        "tokenizer = AutoTokenizer.from_pretrained(model_name)"
      ],
      "metadata": {
        "colab": {
          "base_uri": "https://localhost:8080/",
          "height": 388,
          "referenced_widgets": [
            "026f17f4ab0f4c878fd4a401f62d710d",
            "26f4bd8703db4532af0c6c2a2259ea25",
            "919c97702cfd47c3a0dd0a33543fbe5c",
            "8d80530dea6b4debb9c062ddddbb86ee",
            "a79d1cec46044c399b197dd7d12130c4",
            "8abb18d184634c4384fd07d7b73baae8",
            "cf7eb6505cee4b4e91f7a7cbcd17a36c",
            "43438b4d2b0143679cb17cfcbe0caa35",
            "a46dd7d83d8044e0ac350d565c80b516",
            "6dfdea037c414783b8be6a325d585d17",
            "4756f63eba014098b0cfa584fdd49384",
            "e5345b4ce55846e79e6eb6d9cbd30144",
            "4b2579e15e264c28bad2468d416ed644",
            "3ebc15022af54060855bf07e06ee853e",
            "5d708ddcabef4ea7bc63658821bb6aac",
            "3929e0a36bfa442f8f5f4080477d16f4",
            "81cefa529fea47eebc747528962420ff",
            "226eacfa62154e419d573689c85d0709",
            "75b8937c16a3494bab2d2d610cbbfdcf",
            "1084ade188a643d98a867fc54a25ea9d",
            "97dd4b237d874dc4b313398ca62bbd82",
            "94168ef2d77b43699d6a700b839b58cf",
            "94b5a964f35f4aa8b68cec3819e92ea1",
            "cf9db5615ce94cfe8d46c01504bf9aff",
            "e51ca372ce934180a7883890adf966f1",
            "13c0a1b8bdff44b29e513860f26494c2",
            "a3cf0600b516496d8921c9d16d2632c6",
            "bd6db2b5e2164a848c226329ea6accc6",
            "d0b16f20cbb24b3da2d2ab4984fd63fc",
            "06d779b9ab8d4b92a4719d0e8d27de38",
            "08a03cde7ded4818af1d4d7fff1c8497",
            "e821ff11080141dbba8ff9ed6009f8c3",
            "63a650624c6a43249b6d0efed7d129a9",
            "6aca805cf77c41edbf67e48221ebb650",
            "3cc47eebcb8a4cc59b8229f8104b06a9",
            "e8e4c7cfda0e4883bc3c02aad89cf035",
            "a12bf876eec74e7fb90781ad30edfe47",
            "a8ed34b3ef2745b69d4aaee089f6b235",
            "75b85b5d11e342db90ce81691b910791",
            "63e1e3eab509480ebfaf5340da623b4a",
            "e2596ed0a3354d008bc4bf650c839411",
            "0d8c999824ba4352945f881be18a9d72",
            "e7dab14392b241ec8215f46cb6c6bf85",
            "1f6d7315219d43029e81bdcf5ba5257c",
            "af5342cb46c0463790cd0bf95fb4e317",
            "0df2e33376f84f8ab29191c921d61c52",
            "aa7ac8f9ec7842dc98fc613e33c28896",
            "a4f6d971e7d04c759340bd61003ab0ce",
            "260881bebcc64857a96b3620461c4de1",
            "71c9f2070a734d9f937d9bb0558ed0d3",
            "e53df4fff3914b15bf1ba61a74047076",
            "5bc997f34c994120912242cca0c7230f",
            "0e13823adb2d46ccb2fd367f50e5dc23",
            "49ec8cde79f24cc786cc12457e681b18",
            "781b8ef92c424fecb132646a9dc99d5a"
          ]
        },
        "id": "L-JQ5YWeJB6Y",
        "outputId": "8bcfc0f4-ca16-4598-a672-ea301a4916ff"
      },
      "execution_count": null,
      "outputs": [
        {
          "output_type": "stream",
          "name": "stderr",
          "text": [
            "/usr/local/lib/python3.10/dist-packages/huggingface_hub/file_download.py:797: FutureWarning: `resume_download` is deprecated and will be removed in version 1.0.0. Downloads always resume when possible. If you want to force a new download, use `force_download=True`.\n",
            "  warnings.warn(\n",
            "/usr/local/lib/python3.10/dist-packages/huggingface_hub/utils/_auth.py:94: UserWarning: \n",
            "The secret `HF_TOKEN` does not exist in your Colab secrets.\n",
            "To authenticate with the Hugging Face Hub, create a token in your settings tab (https://huggingface.co/settings/tokens), set it as secret in your Google Colab and restart your session.\n",
            "You will be able to reuse this secret in all of your notebooks.\n",
            "Please note that authentication is recommended but still optional to access public models or datasets.\n",
            "  warnings.warn(\n"
          ]
        },
        {
          "output_type": "display_data",
          "data": {
            "text/plain": [
              "config.json:   0%|          | 0.00/570 [00:00<?, ?B/s]"
            ],
            "application/vnd.jupyter.widget-view+json": {
              "version_major": 2,
              "version_minor": 0,
              "model_id": "026f17f4ab0f4c878fd4a401f62d710d"
            }
          },
          "metadata": {}
        },
        {
          "output_type": "display_data",
          "data": {
            "text/plain": [
              "model.safetensors:   0%|          | 0.00/436M [00:00<?, ?B/s]"
            ],
            "application/vnd.jupyter.widget-view+json": {
              "version_major": 2,
              "version_minor": 0,
              "model_id": "e5345b4ce55846e79e6eb6d9cbd30144"
            }
          },
          "metadata": {}
        },
        {
          "output_type": "stream",
          "name": "stderr",
          "text": [
            "Some weights of the model checkpoint at bert-base-cased were not used when initializing BertModel: ['cls.seq_relationship.weight', 'cls.predictions.bias', 'cls.predictions.transform.LayerNorm.weight', 'cls.predictions.transform.dense.bias', 'cls.predictions.transform.dense.weight', 'cls.predictions.transform.LayerNorm.bias', 'cls.seq_relationship.bias']\n",
            "- This IS expected if you are initializing BertModel from the checkpoint of a model trained on another task or with another architecture (e.g. initializing a BertForSequenceClassification model from a BertForPreTraining model).\n",
            "- This IS NOT expected if you are initializing BertModel from the checkpoint of a model that you expect to be exactly identical (initializing a BertForSequenceClassification model from a BertForSequenceClassification model).\n"
          ]
        },
        {
          "output_type": "display_data",
          "data": {
            "text/plain": [
              "tokenizer_config.json:   0%|          | 0.00/49.0 [00:00<?, ?B/s]"
            ],
            "application/vnd.jupyter.widget-view+json": {
              "version_major": 2,
              "version_minor": 0,
              "model_id": "94b5a964f35f4aa8b68cec3819e92ea1"
            }
          },
          "metadata": {}
        },
        {
          "output_type": "display_data",
          "data": {
            "text/plain": [
              "vocab.txt:   0%|          | 0.00/213k [00:00<?, ?B/s]"
            ],
            "application/vnd.jupyter.widget-view+json": {
              "version_major": 2,
              "version_minor": 0,
              "model_id": "6aca805cf77c41edbf67e48221ebb650"
            }
          },
          "metadata": {}
        },
        {
          "output_type": "display_data",
          "data": {
            "text/plain": [
              "tokenizer.json:   0%|          | 0.00/436k [00:00<?, ?B/s]"
            ],
            "application/vnd.jupyter.widget-view+json": {
              "version_major": 2,
              "version_minor": 0,
              "model_id": "af5342cb46c0463790cd0bf95fb4e317"
            }
          },
          "metadata": {}
        }
      ]
    },
    {
      "cell_type": "markdown",
      "source": [
        "\n",
        "## 📝 Function Definition: Predict\n",
        "\n",
        "Define a function that encodes input text into tensors, which are then fed to the model to obtain embeddings."
      ],
      "metadata": {
        "id": "ZzoQD4KrpClk"
      }
    },
    {
      "cell_type": "code",
      "source": [
        "# Defining a function to encode the input text and get model predictions\n",
        "def predict(sentence):\n",
        "    encoded_inputs = tokenizer(sentence, return_tensors=\"pt\")  # Tokenizes the input text (sentence) and converts it into tensors ready to be used by a model.\n",
        "    return encoded_inputs  # This is just a simple tokenization.\n",
        "    #return model(**encoded_inputs)[0]"
      ],
      "metadata": {
        "id": "GJIJ1VUZJBtp"
      },
      "execution_count": null,
      "outputs": []
    },
    {
      "cell_type": "code",
      "source": [
        "sentence1 = \"There was a fly drinking from my soup\"\n",
        "predict (sentence1)"
      ],
      "metadata": {
        "colab": {
          "base_uri": "https://localhost:8080/"
        },
        "id": "SMGBbwgIh2do",
        "outputId": "de93272a-189d-4953-cebe-29b76e8e08b0"
      },
      "execution_count": null,
      "outputs": [
        {
          "output_type": "execute_result",
          "data": {
            "text/plain": [
              "{'input_ids': tensor([[  101,  1247,  1108,   170,  4689,  5464,  1121,  1139, 13128,   102]]), 'token_type_ids': tensor([[0, 0, 0, 0, 0, 0, 0, 0, 0, 0]]), 'attention_mask': tensor([[1, 1, 1, 1, 1, 1, 1, 1, 1, 1]])}"
            ]
          },
          "metadata": {},
          "execution_count": 27
        }
      ]
    },
    {
      "cell_type": "code",
      "source": [
        "def model_predict(text):\n",
        "    encoded_inputs = tokenizer(text, return_tensors=\"pt\")\n",
        "    #return encoded_inputs\n",
        "    return model(**encoded_inputs)[0] # The model returns the embedding"
      ],
      "metadata": {
        "id": "KzgfmDmVimTP"
      },
      "execution_count": null,
      "outputs": []
    },
    {
      "cell_type": "code",
      "source": [
        "sentence1 = \"There was a fly drinking from my soup\"\n",
        "output=model_predict (sentence1)\n",
        "output"
      ],
      "metadata": {
        "colab": {
          "base_uri": "https://localhost:8080/"
        },
        "id": "CBIWjZU4ipxt",
        "outputId": "47adf146-4d87-4cc3-b6e7-9bcd5f6a638d"
      },
      "execution_count": null,
      "outputs": [
        {
          "output_type": "execute_result",
          "data": {
            "text/plain": [
              "tensor([[[ 0.5312,  0.2162,  0.0967,  ..., -0.2778,  0.2341, -0.2684],\n",
              "         [ 0.1996, -0.2155, -0.1150,  ...,  0.1952,  0.5705,  0.0951],\n",
              "         [ 0.2500, -0.0971,  0.5910,  ...,  0.1830, -0.0093,  0.0130],\n",
              "         ...,\n",
              "         [-0.1890, -0.1836,  0.0684,  ..., -0.1357,  0.2555,  0.3643],\n",
              "         [ 0.2328,  0.0131,  0.2131,  ..., -0.2474, -0.2384,  0.0111],\n",
              "         [ 1.3495,  0.1425,  0.1270,  ..., -0.5699,  0.5849, -0.7200]]],\n",
              "       grad_fn=<NativeLayerNormBackward0>)"
            ]
          },
          "metadata": {},
          "execution_count": 36
        }
      ]
    },
    {
      "cell_type": "code",
      "source": [
        "length_of_list = output.size(1)\n",
        "print(length_of_list)  # We have 10 tokens and each token has an embedding. Here we get the number of embeddings, one per token"
      ],
      "metadata": {
        "colab": {
          "base_uri": "https://localhost:8080/"
        },
        "id": "iTcoQBAbi7c5",
        "outputId": "9924ddce-4100-4eab-8957-b0a9c3d6e687"
      },
      "execution_count": null,
      "outputs": [
        {
          "output_type": "stream",
          "name": "stdout",
          "text": [
            "10\n"
          ]
        }
      ]
    },
    {
      "cell_type": "code",
      "source": [
        "length_of_list = output.size(2)\n",
        "print(length_of_list) # We have 768 numbers per token"
      ],
      "metadata": {
        "colab": {
          "base_uri": "https://localhost:8080/"
        },
        "id": "uNXYa5wBkVuL",
        "outputId": "1d306934-9bf4-471a-bf67-68c145c1d963"
      },
      "execution_count": null,
      "outputs": [
        {
          "output_type": "stream",
          "name": "stdout",
          "text": [
            "768\n"
          ]
        }
      ]
    },
    {
      "cell_type": "markdown",
      "source": [
        "## 📃 Defining the Sentences\n",
        "\n",
        "Set up sentences to analyze. The"
      ],
      "metadata": {
        "id": "eGyuVbYkpEfU"
      }
    },
    {
      "cell_type": "code",
      "source": [
        "# Defining the sentences\n",
        "sentence1 = \"There was a fly drinking from my soup\"\n",
        "sentence2 = \"There is a fly swimming in my juice\"\n",
        "# sentence2 = \"To become a commercial pilot, he had to fly for 1500 hours.\" # second fly example\n",
        "\n",
        "# Tokenizing the sentences\n",
        "tokens1 = tokenizer.tokenize(sentence1) # This is a lower-level API that only tokenizes the input text into individual subword tokens (not IDs).\n",
        "tokens2 = tokenizer.tokenize(sentence2)"
      ],
      "metadata": {
        "id": "s_0dKdRbJFtL"
      },
      "execution_count": null,
      "outputs": []
    },
    {
      "cell_type": "code",
      "source": [
        "tokens1"
      ],
      "metadata": {
        "colab": {
          "base_uri": "https://localhost:8080/"
        },
        "id": "PV3UaeE2oZPo",
        "outputId": "7be72b59-eba1-4676-b667-f71bad5799df"
      },
      "execution_count": null,
      "outputs": [
        {
          "output_type": "execute_result",
          "data": {
            "text/plain": [
              "['There', 'was', 'a', 'fly', 'drinking', 'from', 'my', 'soup']"
            ]
          },
          "metadata": {},
          "execution_count": 29
        }
      ]
    },
    {
      "cell_type": "code",
      "source": [
        "tokens2"
      ],
      "metadata": {
        "colab": {
          "base_uri": "https://localhost:8080/"
        },
        "id": "3QFiDb6kodJW",
        "outputId": "0b45ec97-62ca-496e-ca89-dc5ed8a1e34b"
      },
      "execution_count": null,
      "outputs": [
        {
          "output_type": "execute_result",
          "data": {
            "text/plain": [
              "['There', 'is', 'a', 'fly', 'swimming', 'in', 'my', 'juice']"
            ]
          },
          "metadata": {},
          "execution_count": 30
        }
      ]
    },
    {
      "cell_type": "markdown",
      "source": [
        "## 🔍 Tokenization and Model Predictions\n",
        "\n",
        "Tokenize the sentences and obtain predictions (embeddings) from the model."
      ],
      "metadata": {
        "id": "fTn6NoNepG16"
      }
    },
    {
      "cell_type": "code",
      "source": [
        "# Getting model predictions for the sentences\n",
        "out1 = model_predict(sentence1) # out1 is a 3D tensor with shape (1, sequence_length, hidden_size)--> 1: Batch size (single sentence in the batch). sequence_length: Number of tokens in the sequence. hidden_size: Dimensionality of the hidden state (e.g., 768).\n",
        "out2 = model_predict(sentence2)"
      ],
      "metadata": {
        "id": "5B0LO9xfJI2P"
      },
      "execution_count": null,
      "outputs": []
    },
    {
      "cell_type": "code",
      "source": [
        "out1"
      ],
      "metadata": {
        "colab": {
          "base_uri": "https://localhost:8080/"
        },
        "id": "W8hcBsMioj28",
        "outputId": "87d7bd91-da02-482e-fbd5-03c0df2f0e7e"
      },
      "execution_count": null,
      "outputs": [
        {
          "output_type": "execute_result",
          "data": {
            "text/plain": [
              "tensor([[[ 0.5312,  0.2162,  0.0967,  ..., -0.2778,  0.2341, -0.2684],\n",
              "         [ 0.1996, -0.2155, -0.1150,  ...,  0.1952,  0.5705,  0.0951],\n",
              "         [ 0.2500, -0.0971,  0.5910,  ...,  0.1830, -0.0093,  0.0130],\n",
              "         ...,\n",
              "         [-0.1890, -0.1836,  0.0684,  ..., -0.1357,  0.2555,  0.3643],\n",
              "         [ 0.2328,  0.0131,  0.2131,  ..., -0.2474, -0.2384,  0.0111],\n",
              "         [ 1.3495,  0.1425,  0.1270,  ..., -0.5699,  0.5849, -0.7200]]],\n",
              "       grad_fn=<NativeLayerNormBackward0>)"
            ]
          },
          "metadata": {},
          "execution_count": 38
        }
      ]
    },
    {
      "cell_type": "markdown",
      "source": [
        "## 🔄 Extracting Embeddings\n",
        "\n",
        "Extract embeddings specifically for the word \"fly\" from both sentences."
      ],
      "metadata": {
        "id": "Mb8tPoc3pJxA"
      }
    },
    {
      "cell_type": "code",
      "source": [
        "# Extracting embeddings for the word 'fly' in both sentences\n",
        "emb1 = out1[0:, tokens1.index(\"fly\"), :].detach()[0]  # 0:: Selects the first batch (index 0). tokens1.index(\"fly\"): Selects the position of \"fly\" in the sequence. : Selects all dimensions of the hidden size.\n",
        "# So the output of the above command is a tensor of shape (1, hidden_size). .detach(): --> Removes the tensor from the computation graph, making it a non-trainable tensor. [0]: Removes the batch dimension, resulting in a 1D tensor of size hidden_size.\n",
        "\n",
        "emb2 = out2[0:, tokens2.index(\"fly\"), :].detach()[0]\n",
        "\n"
      ],
      "metadata": {
        "id": "y8ZvAkGiJLZf"
      },
      "execution_count": null,
      "outputs": []
    },
    {
      "cell_type": "code",
      "source": [
        "emb1"
      ],
      "metadata": {
        "colab": {
          "base_uri": "https://localhost:8080/"
        },
        "id": "mOLznPZ9rK2r",
        "outputId": "08a9c3e8-dc31-4ad1-b842-7672d99d7513"
      },
      "execution_count": null,
      "outputs": [
        {
          "output_type": "execute_result",
          "data": {
            "text/plain": [
              "tensor([ 1.3092e-01, -1.0668e-01,  9.2523e-02,  1.3643e-01, -2.0440e-02,\n",
              "        -4.5883e-01,  2.8128e-01,  6.1601e-02, -3.5428e-01, -2.1475e-01,\n",
              "        -2.5499e-01,  5.1753e-01, -4.3148e-01, -6.3329e-02, -5.3246e-01,\n",
              "        -3.2249e-01, -2.1388e-01,  1.3354e-01, -1.9712e-01, -2.6240e-01,\n",
              "        -1.4709e-01, -1.0367e-01, -2.5171e-01,  5.1877e-01,  9.3922e-02,\n",
              "        -5.8071e-02, -2.8924e-01,  3.1419e-01, -1.9856e-02,  8.9696e-02,\n",
              "        -4.5797e-01, -7.0561e-02,  5.0785e-01,  3.4331e-02, -1.3408e-01,\n",
              "         1.4696e-01,  2.7969e-01,  3.0272e-02,  1.2643e-01, -4.4700e-01,\n",
              "         2.9013e-01,  4.3903e-02, -2.0638e-01, -1.5396e-01,  2.4499e-01,\n",
              "        -6.9515e-01,  4.1689e-01, -6.1322e-02, -3.0181e-01, -1.1547e-01,\n",
              "        -3.1198e-01, -1.6191e-01, -1.8917e-01,  1.5833e-01,  1.3774e-01,\n",
              "        -3.2496e-01,  2.6430e-01, -1.0327e-01,  2.0264e-01,  6.1191e-01,\n",
              "        -6.3990e-02,  5.9297e-01,  4.8044e-01,  1.2240e-01, -3.5768e-02,\n",
              "         2.2697e-01, -2.0584e-01, -2.9186e-01,  4.5125e-01, -8.2567e-02,\n",
              "         1.5927e-01,  1.0602e-01,  4.4092e-02, -3.4513e-01,  1.8540e-01,\n",
              "        -1.0185e-01,  1.6834e-01,  1.1734e-01,  8.1672e-02, -3.0675e-02,\n",
              "         1.7302e-01,  3.4055e-01, -1.2128e-02,  5.3208e-01, -5.0736e-01,\n",
              "         4.8615e-02, -4.4129e-04,  2.0650e-01, -9.9981e-02,  3.6404e-01,\n",
              "         2.0135e-01, -8.7685e-02,  4.9526e-01, -4.8537e-02,  2.2229e-01,\n",
              "         6.3281e-01,  8.4377e-02,  7.7225e-02, -2.1300e-01,  3.7456e-01,\n",
              "        -8.4380e-02,  3.1756e-01, -1.5255e-01, -6.4806e-02, -1.8110e-01,\n",
              "         1.7982e-01,  5.2433e-02, -6.0700e-02,  1.5320e-01,  9.3013e-01,\n",
              "         1.9095e-01, -1.7367e-01,  2.3377e-01, -5.1559e-01,  2.5514e-01,\n",
              "        -4.6087e-01, -3.2100e-04,  1.5649e-01,  2.0242e-01, -3.0246e-02,\n",
              "        -1.0124e-01, -1.2165e-01,  3.9960e-01, -6.5602e-02,  3.2323e-01,\n",
              "        -1.1729e-03, -1.8825e-01, -2.8031e-01,  4.2531e-01, -3.9884e-01,\n",
              "        -1.0786e-01, -2.1339e-01,  1.3152e-01,  5.3061e-01,  2.9991e-01,\n",
              "        -1.7802e-01, -2.4644e-03,  7.7708e-01, -8.1721e-01,  2.1373e-02,\n",
              "        -5.9670e-01, -5.8418e-03,  1.3690e-01, -2.4301e-01,  8.0075e-03,\n",
              "         1.7326e-01, -1.7754e-01,  3.4209e-02, -2.6968e-01, -1.1960e-01,\n",
              "         1.7847e-01, -2.0936e-01,  2.7628e-01, -2.0934e-01,  9.0214e-02,\n",
              "         7.8224e-02, -9.1815e-02,  3.0316e-01, -5.5216e-03,  4.1139e-01,\n",
              "        -3.3259e-01, -3.7383e-01, -2.3632e-01,  3.1495e-01,  1.4203e-01,\n",
              "        -6.0963e-03,  2.9638e-01, -1.1312e-01, -1.4320e-01,  5.4071e-02,\n",
              "         2.2846e-01,  1.9567e-01, -2.2908e-01,  7.2093e-01, -6.9941e-01,\n",
              "         1.7878e-01,  1.6017e-01,  1.5989e-01,  2.1712e-01,  3.8008e-01,\n",
              "         1.4754e-01, -1.9767e-02,  1.3917e-02, -1.2507e-01,  2.2686e-02,\n",
              "         4.1082e-01,  2.8730e-01,  2.3519e-02, -3.6819e-01,  1.3093e-01,\n",
              "         4.9047e-01,  5.4998e-02,  1.8170e-01, -1.8944e-01, -5.7335e-01,\n",
              "        -2.3306e-01, -3.1446e-01, -5.1958e-01,  4.9298e-01,  5.1021e-01,\n",
              "        -2.0165e-01,  3.1742e-01, -3.0866e-01,  2.6083e-01, -1.2420e-01,\n",
              "        -3.6098e-01,  3.0441e-01,  5.1290e-01, -4.5357e-01, -4.2216e-01,\n",
              "        -6.3780e-02, -3.3628e-02,  2.8904e-02, -9.5905e-02, -3.3845e-01,\n",
              "         7.6635e-01,  4.6637e-01, -6.4010e-03,  2.8942e-01, -1.0316e-02,\n",
              "        -1.2431e-01, -2.6819e-01, -2.5100e-01,  2.7412e-01, -3.3379e-01,\n",
              "         4.8335e-02, -1.3797e-01, -3.5078e-01, -2.0092e-01,  1.0989e-01,\n",
              "         1.4368e-01,  3.7631e-01, -6.3574e-02, -3.6678e-01, -1.9084e-01,\n",
              "         2.5804e-01, -1.1423e-01,  2.6742e-01, -2.2422e-01, -7.6064e-02,\n",
              "         1.4510e-02,  2.2684e-01,  5.3422e-01, -2.1955e-02, -4.7781e-01,\n",
              "        -1.3264e-01, -5.5727e-01, -4.5754e-02, -1.3897e-01, -2.1249e-01,\n",
              "         5.9604e-01, -5.2044e-01, -1.1675e-01, -1.5135e-01,  2.3059e-01,\n",
              "        -1.3200e-01,  5.5805e-02, -1.1614e-01,  8.1731e-02,  7.2091e-02,\n",
              "         1.3487e-01,  8.8706e-01, -2.1146e-01, -3.6612e-01, -2.3858e-02,\n",
              "        -1.7615e-01, -6.6440e-01, -4.9534e-01, -6.4489e-01,  2.7672e-02,\n",
              "         1.3359e-01, -1.7281e-02,  6.6573e-01,  5.7408e-02, -3.0585e-02,\n",
              "        -2.1536e-01,  1.3485e-01, -5.6895e-01, -3.4285e-01, -3.5094e-02,\n",
              "         1.0322e-01,  4.6283e-01, -2.1432e-01,  3.4058e-01, -1.2711e-02,\n",
              "         5.4439e-01,  8.8786e-03,  1.0810e-01, -2.5866e-02,  2.0001e-01,\n",
              "         4.2577e-01,  9.9007e-02,  9.3551e-02, -8.9547e-02,  4.0083e-02,\n",
              "        -2.0353e-01, -3.2847e-01,  4.0544e-01,  2.6451e-01,  4.9066e-01,\n",
              "         4.7745e-01,  7.7419e-01, -1.1966e-02, -7.0988e-01, -1.3763e-02,\n",
              "         1.1400e-01,  1.4819e-01,  4.2548e-01, -3.0137e-01,  1.6776e-02,\n",
              "         2.5883e-01, -6.6444e-02,  2.0911e-01, -6.7973e-02, -1.5760e-01,\n",
              "        -7.4392e-01,  8.7865e-02, -8.6448e-02, -6.8256e-01, -1.8664e-01,\n",
              "         5.0753e-01,  2.8466e-01,  7.6949e-03, -1.4254e-02,  2.1745e-01,\n",
              "         8.4037e-02,  2.0655e-01,  1.1588e-01,  5.8447e-01, -6.8139e-01,\n",
              "         5.6972e-02, -3.2060e-01, -2.1894e-01,  4.3970e-02, -4.1014e-02,\n",
              "        -7.8206e-01, -5.1700e-01,  1.6616e-01, -1.8997e-01,  9.0176e-02,\n",
              "         7.7259e-02,  1.1411e-01,  2.2591e-01, -2.8409e-01,  2.8009e-01,\n",
              "        -1.1840e-01, -4.1789e-01, -2.0669e-01, -5.3828e-01, -1.1396e-01,\n",
              "        -4.0494e-01,  9.2758e-02, -1.7812e-02,  3.0800e-01,  2.4126e-01,\n",
              "        -1.1744e-01, -1.3617e-01, -1.5747e-01, -1.6054e-01, -1.4159e-01,\n",
              "         3.9588e-01, -1.2570e-01, -8.0944e-01,  1.2564e-01,  9.8623e-02,\n",
              "         6.4879e-02,  2.1736e-01,  4.2854e-01, -1.2256e-03,  1.6100e-01,\n",
              "        -7.6835e-02, -2.3057e-01,  8.1227e-02, -6.9633e-01, -5.1386e-01,\n",
              "         1.4440e-01, -5.5817e-01,  3.6930e-01, -2.5099e-01, -2.6170e-01,\n",
              "        -1.4570e-02,  1.1634e-01,  1.1713e-01, -2.1071e-01,  7.4584e-02,\n",
              "         2.0659e-01,  4.7116e-03,  4.2955e-01,  6.1414e-01, -6.5286e-01,\n",
              "         9.8218e-01,  3.4447e-01,  2.1063e-01, -1.9591e-01, -6.2087e-02,\n",
              "        -3.4906e-01, -1.9620e-01,  3.8167e-02,  1.4587e-01, -3.5944e-01,\n",
              "         5.8618e-04,  5.8242e-03, -2.0912e-01,  4.0895e-01, -9.0792e-02,\n",
              "        -4.2219e-01,  1.3484e-02, -3.4412e-01,  2.2265e-01, -2.1307e-01,\n",
              "        -2.4171e-01, -5.6389e-01,  2.4640e-01,  4.8767e-01, -1.1976e-02,\n",
              "        -5.9448e-01,  1.2120e-01,  6.5350e-01,  5.1464e-01,  3.4391e-01,\n",
              "         9.6023e-03, -9.9071e-02, -2.5521e-01, -4.5016e-02,  2.1628e-01,\n",
              "         1.9516e-01,  1.1494e-01, -5.5183e-01, -4.8490e-01,  7.8801e-01,\n",
              "        -2.8901e-01,  5.6649e-01, -9.4319e-02,  8.8076e-02,  2.5451e-01,\n",
              "         1.1456e-01,  5.8018e-02, -3.0300e-01, -4.8331e-01, -5.3934e-01,\n",
              "         2.5802e-01, -2.3988e-01, -1.3913e-01, -5.7676e-01,  6.0166e-02,\n",
              "        -2.6022e-01, -1.1223e-02, -5.4207e-01, -1.7720e-01,  8.1583e-02,\n",
              "        -3.2215e-01, -1.3946e-02,  2.7212e-01, -1.6726e-01, -3.4505e-02,\n",
              "        -8.8764e-01,  6.0899e-02,  1.5552e-01,  3.9189e-02,  9.8653e-02,\n",
              "         1.6957e-01,  1.9789e-01,  4.4253e-01,  5.0862e-01, -2.3077e-01,\n",
              "        -3.0643e-01, -1.7292e-01,  6.7866e-02, -2.4473e-01, -2.9989e-01,\n",
              "         5.0614e-01, -1.5579e-01,  4.9629e-01, -5.3316e-02, -4.2890e-01,\n",
              "        -3.7509e-01, -1.6295e-01, -1.1678e-01, -2.3697e-02, -3.6503e-01,\n",
              "         7.8143e-02,  3.0573e-01,  4.0756e-03, -1.5679e-04,  2.6633e-01,\n",
              "         2.6936e-01, -4.5072e-01,  2.2722e-01,  3.9116e-01, -3.1543e-01,\n",
              "        -1.2985e-01,  2.3254e-01, -1.8541e-02,  2.5152e-01, -6.2140e-02,\n",
              "        -2.9496e-01,  1.6025e-01, -2.0420e-01, -3.5243e-01,  1.7043e-02,\n",
              "         1.1271e-02, -3.4308e-01,  6.0575e-02,  3.4250e-01,  8.6227e-02,\n",
              "         1.6850e-01,  4.2880e-01,  3.2665e-01,  1.6818e-01, -2.4932e-01,\n",
              "         2.3457e-01, -8.0686e-01, -2.3790e-01, -2.7780e-01,  3.0131e-01,\n",
              "        -6.7202e-02,  8.0724e-02,  1.2361e-01,  2.0092e-01, -2.6853e-01,\n",
              "         4.1401e-01, -3.5462e-01,  2.8087e-02, -3.6901e-01, -4.1893e-01,\n",
              "         5.7765e-01,  1.3253e+00,  1.7306e-01,  3.5464e-02,  2.2446e-01,\n",
              "        -4.7024e-01,  5.2330e-01, -7.3169e-02, -2.7518e-01,  5.1035e-01,\n",
              "        -5.3696e-02, -3.1640e-01, -5.2604e-01, -3.6462e-01,  3.6038e-01,\n",
              "        -2.7252e-01, -1.6551e-01, -1.8254e-01,  3.5232e-02,  7.6805e-02,\n",
              "         3.7379e-01, -1.6031e-02, -4.2402e-01,  1.3857e-01,  4.9446e-01,\n",
              "         4.2941e-02,  6.2103e-01,  1.4552e-01,  5.9751e-01,  3.9266e-01,\n",
              "        -2.5827e-01, -5.2042e-01, -9.1562e+00,  2.2173e-01, -2.8663e-01,\n",
              "         1.1675e-01,  1.2067e-01, -1.6832e-01,  9.3116e-01,  3.9041e-01,\n",
              "        -1.6166e-01,  3.7899e-01,  3.0915e-01,  1.8894e-01,  1.3580e-02,\n",
              "        -2.1741e-01, -1.3632e-01, -4.7734e-01,  2.1363e-02, -1.4285e-01,\n",
              "         2.5260e-01, -3.5327e-02,  1.7419e-01,  1.5172e-01,  3.4205e-01,\n",
              "         2.6807e-01, -1.3278e-01,  3.8601e-01,  1.0332e-01,  5.8814e-01,\n",
              "         3.2141e-01, -4.5799e-01, -3.5195e-01, -2.3132e-01, -1.9794e-01,\n",
              "        -7.4434e-01, -8.5650e-02,  6.4569e-02,  4.7681e-01, -1.6727e-01,\n",
              "         2.9695e-01, -7.1242e-01,  2.2123e-01, -8.9261e-02, -6.7512e-02,\n",
              "        -1.4222e-01,  5.2958e-01,  3.6369e-01, -2.8829e-02, -6.3611e-02,\n",
              "        -4.8057e-01, -3.5220e-01,  3.4457e-01,  2.6158e-01, -2.3079e-02,\n",
              "         1.2159e-01, -1.5757e-02,  2.3275e-01,  1.3546e-01,  2.3010e-02,\n",
              "         2.0657e-01,  3.6562e-01,  4.0892e-01,  1.4065e-01,  4.5609e-01,\n",
              "        -5.2529e-01, -4.9032e-01,  5.3628e-01, -1.6409e-01, -1.8191e-01,\n",
              "        -6.3927e-01,  3.0167e-01, -6.6088e-01,  2.5557e-01, -2.6984e-01,\n",
              "        -4.1652e-01, -5.0712e-01,  7.4722e-02,  1.2080e-01,  7.1793e-01,\n",
              "         2.6715e-01,  5.7160e-01, -7.6077e-02,  2.3299e-01,  3.0611e-01,\n",
              "        -3.2984e-01,  3.4362e-01,  4.8454e-02, -1.5350e-01,  4.2772e-01,\n",
              "         5.0262e-01,  2.3384e-01, -1.2790e-01,  9.2524e-02,  1.6194e-01,\n",
              "        -8.3589e-02, -2.7561e-02,  5.6384e-02, -3.2368e-01, -1.6977e-01,\n",
              "         3.2435e-01,  3.4086e-01, -2.3905e-01, -1.2950e-01, -2.0039e-02,\n",
              "        -1.7985e-01,  3.3269e-01,  4.3705e-02, -2.2399e-01, -3.8575e-01,\n",
              "        -1.6562e-01, -1.6615e-01,  2.4058e-01,  1.9968e-01,  1.3133e-01,\n",
              "         6.2882e-01,  2.0818e-01,  4.5911e-01, -5.4483e-02, -4.3202e-01,\n",
              "         2.2450e-01,  2.3926e-01, -3.1672e-01,  1.1014e-01,  1.7433e-01,\n",
              "         8.9913e-02, -2.0875e-01, -6.8988e-01, -3.9903e-01, -1.9729e-01,\n",
              "        -1.3278e-01,  9.8445e-02,  4.4003e-01,  3.3326e-01, -4.6628e-01,\n",
              "         2.8564e-01,  2.8125e-01, -5.1928e-01, -3.7050e-02, -2.0898e-02,\n",
              "        -3.7152e-01,  3.8151e-01, -6.5406e-01,  2.2344e-01,  2.4570e-01,\n",
              "         5.8953e-02,  5.6381e-01, -4.3313e-01, -3.9578e-01, -2.0593e-01,\n",
              "         5.0279e-01, -2.8742e-01, -8.4761e-01,  2.6333e-02,  5.4755e-01,\n",
              "        -1.7229e-01,  6.5255e-01,  3.8992e-02,  2.9165e-01, -2.9444e-01,\n",
              "         2.8626e-01,  1.4133e-01,  3.6703e-01, -1.6638e-02, -2.8193e-01,\n",
              "        -2.8831e-01,  3.6311e-03, -5.2436e-01,  6.3617e-02,  5.8335e-02,\n",
              "         2.1283e-02, -1.3469e-01, -2.0565e-01,  6.3880e-01,  3.7988e-01,\n",
              "         7.6291e-01, -3.0271e-01, -5.1619e-01,  2.3528e-01, -3.6078e-01,\n",
              "         2.6892e-01, -1.3733e-01,  9.6956e-02,  4.5464e-01, -1.0541e-01,\n",
              "        -1.3929e-01,  7.6565e-02,  2.5154e-01,  2.0256e-01, -2.1275e-01,\n",
              "        -1.5887e-01, -5.5400e-02,  1.6975e-01, -8.1494e-02, -5.1139e-01,\n",
              "         2.2758e-01, -1.5691e-03, -1.8776e-01, -1.6657e-01,  1.9596e-01,\n",
              "         7.4610e-01,  2.2959e-01,  1.8312e-01,  5.8194e-02,  1.9061e-01,\n",
              "        -4.3325e-01, -2.6460e-01,  1.7641e-02,  3.1674e-01,  5.9572e-01,\n",
              "         2.1346e-01,  2.4446e-01, -1.3381e-01])"
            ]
          },
          "metadata": {},
          "execution_count": 40
        }
      ]
    },
    {
      "cell_type": "code",
      "source": [
        "emb1 = out1[0:, 3, :].detach()\n",
        "emb1\n",
        "# emb2 = out2[0:, 3, :].detach()"
      ],
      "metadata": {
        "colab": {
          "base_uri": "https://localhost:8080/"
        },
        "id": "SMKh5d9csyje",
        "outputId": "8766d24b-b7dd-41a6-a0e8-dc089fc05848"
      },
      "execution_count": null,
      "outputs": [
        {
          "output_type": "execute_result",
          "data": {
            "text/plain": [
              "tensor([[ 1.3092e-01, -1.0668e-01,  9.2523e-02,  1.3643e-01, -2.0440e-02,\n",
              "         -4.5883e-01,  2.8128e-01,  6.1601e-02, -3.5428e-01, -2.1475e-01,\n",
              "         -2.5499e-01,  5.1753e-01, -4.3148e-01, -6.3329e-02, -5.3246e-01,\n",
              "         -3.2249e-01, -2.1388e-01,  1.3354e-01, -1.9712e-01, -2.6240e-01,\n",
              "         -1.4709e-01, -1.0367e-01, -2.5171e-01,  5.1877e-01,  9.3922e-02,\n",
              "         -5.8071e-02, -2.8924e-01,  3.1419e-01, -1.9856e-02,  8.9696e-02,\n",
              "         -4.5797e-01, -7.0561e-02,  5.0785e-01,  3.4331e-02, -1.3408e-01,\n",
              "          1.4696e-01,  2.7969e-01,  3.0272e-02,  1.2643e-01, -4.4700e-01,\n",
              "          2.9013e-01,  4.3903e-02, -2.0638e-01, -1.5396e-01,  2.4499e-01,\n",
              "         -6.9515e-01,  4.1689e-01, -6.1322e-02, -3.0181e-01, -1.1547e-01,\n",
              "         -3.1198e-01, -1.6191e-01, -1.8917e-01,  1.5833e-01,  1.3774e-01,\n",
              "         -3.2496e-01,  2.6430e-01, -1.0327e-01,  2.0264e-01,  6.1191e-01,\n",
              "         -6.3990e-02,  5.9297e-01,  4.8044e-01,  1.2240e-01, -3.5768e-02,\n",
              "          2.2697e-01, -2.0584e-01, -2.9186e-01,  4.5125e-01, -8.2567e-02,\n",
              "          1.5927e-01,  1.0602e-01,  4.4092e-02, -3.4513e-01,  1.8540e-01,\n",
              "         -1.0185e-01,  1.6834e-01,  1.1734e-01,  8.1672e-02, -3.0675e-02,\n",
              "          1.7302e-01,  3.4055e-01, -1.2128e-02,  5.3208e-01, -5.0736e-01,\n",
              "          4.8615e-02, -4.4129e-04,  2.0650e-01, -9.9981e-02,  3.6404e-01,\n",
              "          2.0135e-01, -8.7685e-02,  4.9526e-01, -4.8537e-02,  2.2229e-01,\n",
              "          6.3281e-01,  8.4377e-02,  7.7225e-02, -2.1300e-01,  3.7456e-01,\n",
              "         -8.4380e-02,  3.1756e-01, -1.5255e-01, -6.4806e-02, -1.8110e-01,\n",
              "          1.7982e-01,  5.2433e-02, -6.0700e-02,  1.5320e-01,  9.3013e-01,\n",
              "          1.9095e-01, -1.7367e-01,  2.3377e-01, -5.1559e-01,  2.5514e-01,\n",
              "         -4.6087e-01, -3.2100e-04,  1.5649e-01,  2.0242e-01, -3.0246e-02,\n",
              "         -1.0124e-01, -1.2165e-01,  3.9960e-01, -6.5602e-02,  3.2323e-01,\n",
              "         -1.1729e-03, -1.8825e-01, -2.8031e-01,  4.2531e-01, -3.9884e-01,\n",
              "         -1.0786e-01, -2.1339e-01,  1.3152e-01,  5.3061e-01,  2.9991e-01,\n",
              "         -1.7802e-01, -2.4644e-03,  7.7708e-01, -8.1721e-01,  2.1373e-02,\n",
              "         -5.9670e-01, -5.8418e-03,  1.3690e-01, -2.4301e-01,  8.0075e-03,\n",
              "          1.7326e-01, -1.7754e-01,  3.4209e-02, -2.6968e-01, -1.1960e-01,\n",
              "          1.7847e-01, -2.0936e-01,  2.7628e-01, -2.0934e-01,  9.0214e-02,\n",
              "          7.8224e-02, -9.1815e-02,  3.0316e-01, -5.5216e-03,  4.1139e-01,\n",
              "         -3.3259e-01, -3.7383e-01, -2.3632e-01,  3.1495e-01,  1.4203e-01,\n",
              "         -6.0963e-03,  2.9638e-01, -1.1312e-01, -1.4320e-01,  5.4071e-02,\n",
              "          2.2846e-01,  1.9567e-01, -2.2908e-01,  7.2093e-01, -6.9941e-01,\n",
              "          1.7878e-01,  1.6017e-01,  1.5989e-01,  2.1712e-01,  3.8008e-01,\n",
              "          1.4754e-01, -1.9767e-02,  1.3917e-02, -1.2507e-01,  2.2686e-02,\n",
              "          4.1082e-01,  2.8730e-01,  2.3519e-02, -3.6819e-01,  1.3093e-01,\n",
              "          4.9047e-01,  5.4998e-02,  1.8170e-01, -1.8944e-01, -5.7335e-01,\n",
              "         -2.3306e-01, -3.1446e-01, -5.1958e-01,  4.9298e-01,  5.1021e-01,\n",
              "         -2.0165e-01,  3.1742e-01, -3.0866e-01,  2.6083e-01, -1.2420e-01,\n",
              "         -3.6098e-01,  3.0441e-01,  5.1290e-01, -4.5357e-01, -4.2216e-01,\n",
              "         -6.3780e-02, -3.3628e-02,  2.8904e-02, -9.5905e-02, -3.3845e-01,\n",
              "          7.6635e-01,  4.6637e-01, -6.4010e-03,  2.8942e-01, -1.0316e-02,\n",
              "         -1.2431e-01, -2.6819e-01, -2.5100e-01,  2.7412e-01, -3.3379e-01,\n",
              "          4.8335e-02, -1.3797e-01, -3.5078e-01, -2.0092e-01,  1.0989e-01,\n",
              "          1.4368e-01,  3.7631e-01, -6.3574e-02, -3.6678e-01, -1.9084e-01,\n",
              "          2.5804e-01, -1.1423e-01,  2.6742e-01, -2.2422e-01, -7.6064e-02,\n",
              "          1.4510e-02,  2.2684e-01,  5.3422e-01, -2.1955e-02, -4.7781e-01,\n",
              "         -1.3264e-01, -5.5727e-01, -4.5754e-02, -1.3897e-01, -2.1249e-01,\n",
              "          5.9604e-01, -5.2044e-01, -1.1675e-01, -1.5135e-01,  2.3059e-01,\n",
              "         -1.3200e-01,  5.5805e-02, -1.1614e-01,  8.1731e-02,  7.2091e-02,\n",
              "          1.3487e-01,  8.8706e-01, -2.1146e-01, -3.6612e-01, -2.3858e-02,\n",
              "         -1.7615e-01, -6.6440e-01, -4.9534e-01, -6.4489e-01,  2.7672e-02,\n",
              "          1.3359e-01, -1.7281e-02,  6.6573e-01,  5.7408e-02, -3.0585e-02,\n",
              "         -2.1536e-01,  1.3485e-01, -5.6895e-01, -3.4285e-01, -3.5094e-02,\n",
              "          1.0322e-01,  4.6283e-01, -2.1432e-01,  3.4058e-01, -1.2711e-02,\n",
              "          5.4439e-01,  8.8786e-03,  1.0810e-01, -2.5866e-02,  2.0001e-01,\n",
              "          4.2577e-01,  9.9007e-02,  9.3551e-02, -8.9547e-02,  4.0083e-02,\n",
              "         -2.0353e-01, -3.2847e-01,  4.0544e-01,  2.6451e-01,  4.9066e-01,\n",
              "          4.7745e-01,  7.7419e-01, -1.1966e-02, -7.0988e-01, -1.3763e-02,\n",
              "          1.1400e-01,  1.4819e-01,  4.2548e-01, -3.0137e-01,  1.6776e-02,\n",
              "          2.5883e-01, -6.6444e-02,  2.0911e-01, -6.7973e-02, -1.5760e-01,\n",
              "         -7.4392e-01,  8.7865e-02, -8.6448e-02, -6.8256e-01, -1.8664e-01,\n",
              "          5.0753e-01,  2.8466e-01,  7.6949e-03, -1.4254e-02,  2.1745e-01,\n",
              "          8.4037e-02,  2.0655e-01,  1.1588e-01,  5.8447e-01, -6.8139e-01,\n",
              "          5.6972e-02, -3.2060e-01, -2.1894e-01,  4.3970e-02, -4.1014e-02,\n",
              "         -7.8206e-01, -5.1700e-01,  1.6616e-01, -1.8997e-01,  9.0176e-02,\n",
              "          7.7259e-02,  1.1411e-01,  2.2591e-01, -2.8409e-01,  2.8009e-01,\n",
              "         -1.1840e-01, -4.1789e-01, -2.0669e-01, -5.3828e-01, -1.1396e-01,\n",
              "         -4.0494e-01,  9.2758e-02, -1.7812e-02,  3.0800e-01,  2.4126e-01,\n",
              "         -1.1744e-01, -1.3617e-01, -1.5747e-01, -1.6054e-01, -1.4159e-01,\n",
              "          3.9588e-01, -1.2570e-01, -8.0944e-01,  1.2564e-01,  9.8623e-02,\n",
              "          6.4879e-02,  2.1736e-01,  4.2854e-01, -1.2256e-03,  1.6100e-01,\n",
              "         -7.6835e-02, -2.3057e-01,  8.1227e-02, -6.9633e-01, -5.1386e-01,\n",
              "          1.4440e-01, -5.5817e-01,  3.6930e-01, -2.5099e-01, -2.6170e-01,\n",
              "         -1.4570e-02,  1.1634e-01,  1.1713e-01, -2.1071e-01,  7.4584e-02,\n",
              "          2.0659e-01,  4.7116e-03,  4.2955e-01,  6.1414e-01, -6.5286e-01,\n",
              "          9.8218e-01,  3.4447e-01,  2.1063e-01, -1.9591e-01, -6.2087e-02,\n",
              "         -3.4906e-01, -1.9620e-01,  3.8167e-02,  1.4587e-01, -3.5944e-01,\n",
              "          5.8618e-04,  5.8242e-03, -2.0912e-01,  4.0895e-01, -9.0792e-02,\n",
              "         -4.2219e-01,  1.3484e-02, -3.4412e-01,  2.2265e-01, -2.1307e-01,\n",
              "         -2.4171e-01, -5.6389e-01,  2.4640e-01,  4.8767e-01, -1.1976e-02,\n",
              "         -5.9448e-01,  1.2120e-01,  6.5350e-01,  5.1464e-01,  3.4391e-01,\n",
              "          9.6023e-03, -9.9071e-02, -2.5521e-01, -4.5016e-02,  2.1628e-01,\n",
              "          1.9516e-01,  1.1494e-01, -5.5183e-01, -4.8490e-01,  7.8801e-01,\n",
              "         -2.8901e-01,  5.6649e-01, -9.4319e-02,  8.8076e-02,  2.5451e-01,\n",
              "          1.1456e-01,  5.8018e-02, -3.0300e-01, -4.8331e-01, -5.3934e-01,\n",
              "          2.5802e-01, -2.3988e-01, -1.3913e-01, -5.7676e-01,  6.0166e-02,\n",
              "         -2.6022e-01, -1.1223e-02, -5.4207e-01, -1.7720e-01,  8.1583e-02,\n",
              "         -3.2215e-01, -1.3946e-02,  2.7212e-01, -1.6726e-01, -3.4505e-02,\n",
              "         -8.8764e-01,  6.0899e-02,  1.5552e-01,  3.9189e-02,  9.8653e-02,\n",
              "          1.6957e-01,  1.9789e-01,  4.4253e-01,  5.0862e-01, -2.3077e-01,\n",
              "         -3.0643e-01, -1.7292e-01,  6.7866e-02, -2.4473e-01, -2.9989e-01,\n",
              "          5.0614e-01, -1.5579e-01,  4.9629e-01, -5.3316e-02, -4.2890e-01,\n",
              "         -3.7509e-01, -1.6295e-01, -1.1678e-01, -2.3697e-02, -3.6503e-01,\n",
              "          7.8143e-02,  3.0573e-01,  4.0756e-03, -1.5679e-04,  2.6633e-01,\n",
              "          2.6936e-01, -4.5072e-01,  2.2722e-01,  3.9116e-01, -3.1543e-01,\n",
              "         -1.2985e-01,  2.3254e-01, -1.8541e-02,  2.5152e-01, -6.2140e-02,\n",
              "         -2.9496e-01,  1.6025e-01, -2.0420e-01, -3.5243e-01,  1.7043e-02,\n",
              "          1.1271e-02, -3.4308e-01,  6.0575e-02,  3.4250e-01,  8.6227e-02,\n",
              "          1.6850e-01,  4.2880e-01,  3.2665e-01,  1.6818e-01, -2.4932e-01,\n",
              "          2.3457e-01, -8.0686e-01, -2.3790e-01, -2.7780e-01,  3.0131e-01,\n",
              "         -6.7202e-02,  8.0724e-02,  1.2361e-01,  2.0092e-01, -2.6853e-01,\n",
              "          4.1401e-01, -3.5462e-01,  2.8087e-02, -3.6901e-01, -4.1893e-01,\n",
              "          5.7765e-01,  1.3253e+00,  1.7306e-01,  3.5464e-02,  2.2446e-01,\n",
              "         -4.7024e-01,  5.2330e-01, -7.3169e-02, -2.7518e-01,  5.1035e-01,\n",
              "         -5.3696e-02, -3.1640e-01, -5.2604e-01, -3.6462e-01,  3.6038e-01,\n",
              "         -2.7252e-01, -1.6551e-01, -1.8254e-01,  3.5232e-02,  7.6805e-02,\n",
              "          3.7379e-01, -1.6031e-02, -4.2402e-01,  1.3857e-01,  4.9446e-01,\n",
              "          4.2941e-02,  6.2103e-01,  1.4552e-01,  5.9751e-01,  3.9266e-01,\n",
              "         -2.5827e-01, -5.2042e-01, -9.1562e+00,  2.2173e-01, -2.8663e-01,\n",
              "          1.1675e-01,  1.2067e-01, -1.6832e-01,  9.3116e-01,  3.9041e-01,\n",
              "         -1.6166e-01,  3.7899e-01,  3.0915e-01,  1.8894e-01,  1.3580e-02,\n",
              "         -2.1741e-01, -1.3632e-01, -4.7734e-01,  2.1363e-02, -1.4285e-01,\n",
              "          2.5260e-01, -3.5327e-02,  1.7419e-01,  1.5172e-01,  3.4205e-01,\n",
              "          2.6807e-01, -1.3278e-01,  3.8601e-01,  1.0332e-01,  5.8814e-01,\n",
              "          3.2141e-01, -4.5799e-01, -3.5195e-01, -2.3132e-01, -1.9794e-01,\n",
              "         -7.4434e-01, -8.5650e-02,  6.4569e-02,  4.7681e-01, -1.6727e-01,\n",
              "          2.9695e-01, -7.1242e-01,  2.2123e-01, -8.9261e-02, -6.7512e-02,\n",
              "         -1.4222e-01,  5.2958e-01,  3.6369e-01, -2.8829e-02, -6.3611e-02,\n",
              "         -4.8057e-01, -3.5220e-01,  3.4457e-01,  2.6158e-01, -2.3079e-02,\n",
              "          1.2159e-01, -1.5757e-02,  2.3275e-01,  1.3546e-01,  2.3010e-02,\n",
              "          2.0657e-01,  3.6562e-01,  4.0892e-01,  1.4065e-01,  4.5609e-01,\n",
              "         -5.2529e-01, -4.9032e-01,  5.3628e-01, -1.6409e-01, -1.8191e-01,\n",
              "         -6.3927e-01,  3.0167e-01, -6.6088e-01,  2.5557e-01, -2.6984e-01,\n",
              "         -4.1652e-01, -5.0712e-01,  7.4722e-02,  1.2080e-01,  7.1793e-01,\n",
              "          2.6715e-01,  5.7160e-01, -7.6077e-02,  2.3299e-01,  3.0611e-01,\n",
              "         -3.2984e-01,  3.4362e-01,  4.8454e-02, -1.5350e-01,  4.2772e-01,\n",
              "          5.0262e-01,  2.3384e-01, -1.2790e-01,  9.2524e-02,  1.6194e-01,\n",
              "         -8.3589e-02, -2.7561e-02,  5.6384e-02, -3.2368e-01, -1.6977e-01,\n",
              "          3.2435e-01,  3.4086e-01, -2.3905e-01, -1.2950e-01, -2.0039e-02,\n",
              "         -1.7985e-01,  3.3269e-01,  4.3705e-02, -2.2399e-01, -3.8575e-01,\n",
              "         -1.6562e-01, -1.6615e-01,  2.4058e-01,  1.9968e-01,  1.3133e-01,\n",
              "          6.2882e-01,  2.0818e-01,  4.5911e-01, -5.4483e-02, -4.3202e-01,\n",
              "          2.2450e-01,  2.3926e-01, -3.1672e-01,  1.1014e-01,  1.7433e-01,\n",
              "          8.9913e-02, -2.0875e-01, -6.8988e-01, -3.9903e-01, -1.9729e-01,\n",
              "         -1.3278e-01,  9.8445e-02,  4.4003e-01,  3.3326e-01, -4.6628e-01,\n",
              "          2.8564e-01,  2.8125e-01, -5.1928e-01, -3.7050e-02, -2.0898e-02,\n",
              "         -3.7152e-01,  3.8151e-01, -6.5406e-01,  2.2344e-01,  2.4570e-01,\n",
              "          5.8953e-02,  5.6381e-01, -4.3313e-01, -3.9578e-01, -2.0593e-01,\n",
              "          5.0279e-01, -2.8742e-01, -8.4761e-01,  2.6333e-02,  5.4755e-01,\n",
              "         -1.7229e-01,  6.5255e-01,  3.8992e-02,  2.9165e-01, -2.9444e-01,\n",
              "          2.8626e-01,  1.4133e-01,  3.6703e-01, -1.6638e-02, -2.8193e-01,\n",
              "         -2.8831e-01,  3.6311e-03, -5.2436e-01,  6.3617e-02,  5.8335e-02,\n",
              "          2.1283e-02, -1.3469e-01, -2.0565e-01,  6.3880e-01,  3.7988e-01,\n",
              "          7.6291e-01, -3.0271e-01, -5.1619e-01,  2.3528e-01, -3.6078e-01,\n",
              "          2.6892e-01, -1.3733e-01,  9.6956e-02,  4.5464e-01, -1.0541e-01,\n",
              "         -1.3929e-01,  7.6565e-02,  2.5154e-01,  2.0256e-01, -2.1275e-01,\n",
              "         -1.5887e-01, -5.5400e-02,  1.6975e-01, -8.1494e-02, -5.1139e-01,\n",
              "          2.2758e-01, -1.5691e-03, -1.8776e-01, -1.6657e-01,  1.9596e-01,\n",
              "          7.4610e-01,  2.2959e-01,  1.8312e-01,  5.8194e-02,  1.9061e-01,\n",
              "         -4.3325e-01, -2.6460e-01,  1.7641e-02,  3.1674e-01,  5.9572e-01,\n",
              "          2.1346e-01,  2.4446e-01, -1.3381e-01]])"
            ]
          },
          "metadata": {},
          "execution_count": 42
        }
      ]
    },
    {
      "cell_type": "markdown",
      "source": [
        "![image.png](data:image/png;base64,iVBORw0KGgoAAAANSUhEUgAAA5AAAAB/CAYAAACZti3uAAAgAElEQVR4Xu2dB7hfRZnGhyVUQy8Rg/QEkSZVFrIQRBHEFQGpinQB6RBEepMO0lWq9N4VkKagyNKVtizShYABQokQSgLs/sady9zJKXP+Z879l/ue58mT5N45U975zjffO98330z16f89Ro8QEAJCQAgIASEgBISAEBACQkAICIESBKYSgZSMCAEhIASEgBAQAkJACAgBISAEhEAMAiKQMSipjBAQAkJACAgBISAEhIAQEAJCQAgYEUgJgRAQAkJACAgBISAEhIAQEAJCQAhEIZBLIMeNG2feeOMN889//tNMnjw5qjIVEgJCQAgIASEgBISAEBACQkAICIGBRWDIkCFmpplmMnPOOacZNmxYo41PQSDfe+8988wzz5iPP/7YdmL66ac3U089daOdUOVCQAgIASEgBFIj8Nxzz5mFFloodbWqTwgIgUGOgHTLIBeADh3+hx9+aD766CPz9ttvW/62yCKLmM997nON9LYfgYQ8PvbYY2a22Waz5FGPEBACQkAICIFuRUBGXrfOnPotBDobAemWzp6fwd47LtgYP368mThxollyySUbIZH9COQjjzxiGavI42AXPY1fCAgBIdD9CMjI6/451AiEQCciIN3SibOiPoUIcBQRMrn00ksnB6ePQHLmcezYsebzn/988kZUoRAQAkJACAiBgUZARt5AI672hMDgQEC6ZXDMc7ePEvL40ksvmQUXXDD5mcg+AvnEE0+YaaedthE3Z7dPgPovBISAEBAC3YeAjLzumzP1WAh0AwLSLd0wS+ojCLzzzjvmk08+MYsvvnhSQPoI5L333muGDx+uhDlJ4VVlQkAICAEh0C4EZOS1C3m1KwR6GwHplt6e314aHYl1iDJdaaWVkg6rj0DefffdylaXFFpVJgSEgBAQAu1EQEZeO9FX20KgdxGQbundue3FkSGvo0aNSjo0EcikcKoyISAEhIAQ6BQEZOR1ykyoH0KgtxCQbumt+ez10YhA9voMa3xCQAgIASGQDAEZecmgVEVCQAh4CEi3SBy6CQERyG6aLfVVCAgBISAE2oqAjLy2wq/GhUDPIiDd0rNT25MDE4HsyWnVoISAEBACQqAJBGTkNYGq6hQCQkC6RTLQTQiIQHbTbKmvQkAICAEh0FYEZOS1FX41LgR6FgHplp6d2p4cmAhkT06rBiUEhIAQEAJNICAjrwlUVacQEALSLZKBbkJABLKNs/X++++bV155xSy44ILm3/7t39rYEzUtBISAEBACMQjIyItBqfUyH3zwgTnqqKPMI488Yk488US7PuoRAoMBgV7SLc8//7zZY489zNJLL2323XdfM/300zc6hd1sT3/yyScGvL7whS+YGWaYoVGcUlbeNQTyzTffNNdff735wx/+YO6//37zuc99zvz7v/+7WXfddc1qq61mpp122pS4NF7XpEmTzPHHH2/OP/988/Of/9x861vfarxNNSAEhIAQEAL1EEhp5GE4PPjgg+aaa66x65rbUFxrrbXM9773PTN8+PB6ne3AtzH0rrvuOnPrrbeaRx991Lz33nvmy1/+sh3vhhtuaD7++GMRyA6cN3WpeQRS6Ja3337bjBkzxnAPu3uwl5dddlmz1VZb2YvfB8JhUYdAZo2BsUBGV155ZbP22mubRRZZpG8c3W5P//73vzc//vGPzWabbWb22WcfM9100zUvbAla6AoC+de//tUccsgh5n/+538scVxsscXMxIkTzX//939bCDbaaCOz1157mVlmmSUBJOmreOONN+yC+c9//tPsuOOOdieGRfLCCy80V199tTn00EPtx61HCAgBISAEOhuBFEYeI4RInXHGGeZXv/qVHTCetrnnntuuc++8847djWbd+4//+A8z1VRTVQIFUnbjjTeaxx9/3Oy5555m1llnrfR+lcJV2mIt/NnPfmZ+97vf2fEtsMACtqkXXnjBjhNPBY88kFVmQGV7BYEUusWRr6eeeso6WIYOHWp1yn/913+ZyZMnm8MOO8yss8460ZBV+b79SlMQyL/85S/W3neEig026uX5wQ9+YD2ccIJut6cffvhhc/DBB5sNNtjAbL755mbqqaeOnp92Fux4Avniiy+avffe2zz77LNmp512Mptuummfi3fs2LHWe8dCudtuu5ntttvODBkypJ14ZraNcLCzsPHGGw+IK7/jAFCHhIAQEAI9gkAKIw+D57zzzjPHHXecWWWVVewGKIYSRPGjjz6yBOukk04yM888sznhhBPMwgsvXAk9Z7zNOeecNtKlSQJZpa2rrrrKHHDAAdbT+NOf/tQafzyQaTwmkEgRyEpTrcI9hEAK3eIIJJs1fgj4n//8Z7Prrruab3/725Xs0Crfd2oCGY6BiA0cR4yL8XSy3d9DYpk7lI4mkCyyp59+uvnFL35hF1jc7yFBHDdunPnJT35iEDQW3BEjRnTcvIlAdtyUqENCQAgIgZYQSGHkPf3002b33Xe3BApvW0gQP/30U3PllVeagw46yIY2sXlaZVe6VaOvFUCqtMVafsopp5hjjjnGekeyHp2BbGUW9E4vIJBCt+QRSDySEMjRo0fbENdpppkmCrIq33fTBNLVj0MJTkDoaqfa/VHgdnmhjiaQb731liWHhPPgaZx33nkz4eYcIYswoaB4+Rxh42NZb731zKmnnmpuueUWGx6EJ5DdT/9A79/+9je7G3zHHXfY+keNGmW22Wabvh1ht+hdcMEF9owKCyCuc8IAwvMrSy21lNliiy3MN7/5TRsuQL8uv/zyfv2mfnaFL7nkElsXf7sQVt655557bHgr4+DJil13fbrooosM50PPPvts66VlB5e+zT///F0umuq+EBACQqDzEEhh5P3mN7+xkTV44VgvskJUWWswkjD0WC8454/hF+7KO4MRpPx1xUfuS1/6kt21Z01lDSxbG/OM0CptZSW/ceNeY401LDkeNmzYFBPsE8hjjz3WEMbG+vzaa6/ZdXWXXXYx88wzj32PKCS8mnfddZf1TBAW+53vfMduNrsjLW6tZJ3Fu3vaaafZdZscCttvv7356le/2oc/6y/nkS699FIb8scYOG9FuNzss8/eecKoHvUUAil0S9a3y88Il8cORkc4ezPMLcI3wzfGUSu+MfftZOkSvg2+J/KS8A06exX7Fr3Gd+yS6Gy77bbmnHPOMTfffLPdNNtyyy3t0bO8xDp5+sf1A+cStjNjcptR/nfO+PwQWto766yz7PiJ9Nh5553NiiuuaP70pz/Zn6MPvvGNb9jNOn7vnldffdXqnttuu83ykNAW99vwx4iuoE1CUnF64Tl94IEHrF2PXuH52te+ZtcAeInPWeiDe6if9ukn6wFnxb/73e9aDuOS7fjvcnYeXCjPpuSPfvQjg66tegQi9qPqaALpJmfRRRe1i40LdwkHx8QQN8yiCPgO0P/8z/+05AriybuEBblF2XkzSVyAsC+00EJm+eWXtxPNBzF+/Hg7EUsssUTfR0Td7Aq//vrrNvQIsoYAEGbEAs1uCO8CKgvfqquuahMF0J+LL77YCh/vzDbbbHaRQzB8Asni9etf/9qGLI0cOdIKmAtnQng5y8LijzC4j4V6MAqWWWYZ2w5hQAgRce70S48QEAJCQAikQyCFkef097nnnmuTQmQ9GGBHHHGEeeyxxyz5Y92IIZBkL2VNJOkcawAEaKaZZrKJ2l566SW7hpStje+++27ttuaaa64phsV6zBnIm266yZI91m02ef0QW0cg7733XsPazxrIOgxJBAv/KAg4suEKhhDtJ554wq7zrO8Yr5BuhzU/u+++++y6DA533nmnJZlHH320NSbd+suZVLCab775rB1w7bXXWrKpNTXdN6SashFIoVvyEtBAPggf9/NtsKEDgcLWxEb++9//br9N7FTknc2bPF3C2Ur0Eo4VvmXsTn6GIwNbHFuab5BvjKQ9fE+QHr4n7FlsaPRQ1lNGIHkH/UbCGWf35xFI2kc3YFMTsch3//nPf97a4DiN0AfkWcF2BofDDz/czDHHHHYcnMkmGmT11Ve3Y4Boggn2PcTMcRQ3RvQVD2NEn7hytIMzDJ5BXTxseLFBCBHPIpCOm3AGFWzZbEPX0QdwO/DAA61+d+8yZxBrnFjoLeaRfjke08Q31xUEsiwNcAi++z8MHCHlw+FxAsGChOADPpPAOREExTF6FinI4vrrr2+Fk10OJgGCicCymEHiWOggkxBUx/AdmWVX2YUJ5IWwhgLPzgQ7I2TJwptKv/x+82/niXXvsovj+j5hwgSz//7724+BRXDxxRdvQmZUpxAQAkJg0CKQwsgLdX8egfSTycQSSMhYXthZ7NqYoq08AeG84xVXXGGJHYYkBhTrHp4PdusdgSRyZ4cddrC/4+cubI1QXtZvDFLGSaZal4Udgsq6SxtsxGLYOqwJmcWAhkxjFJI7gcQV7kwY6z6btGwKY6CxplOOCCdIZhHZH7QfgwaeFIEUuqUoiQ6dJXQeDxbfFBsp2JnO9nWbVpAsZ0Pm6RJHigiJxe4MPfTuPdrAfuasN98TpBUyVZRxNIZAumiGMgIJmYIHYFdD6ohAYGwQLXd8wNnOEDS+c4ggv/vHP/5hN7zcZtjLL79sdQQ6C6cWURGQZL8NMMZxRL8cD4CkgwEeyBVWWMHKDDwEko0XNuQw8Aq4BsnF3AYX76DXGIuLXlxzzTX73sWJ5c7L+3oLfkA/mni6gkAuueSSVkDz3N15HkifxAGe7/ZmAliItt56a5tGPOtxO50IFJOfFW6EoHOYl90EMt65DHr+LmksgYSosjCy4LET4h6EgbOgCL77XdYOtl/OD4ttQnBUpxAQAkJgMCKQwshz+ts3KEIsW/VAxhDIsrWRnfIYb2dRW2WyQXgY6xRkEiLp8hy4ox+//e1vrTHHBjIP6zReEc5yueQgGGFsmLLGsv5CMjFcXcguhp7DOlxXMf4YI+STsD4IK/XmPUUek7Kx6vdCIAaBFLolj3w5Bwoh8M4rBYF58skn7RVCfD98O+52A2dDZhFId20GXi6+K2z08HHv4Tnj23ERce4sJoQu737IGALJ98oGkCNIeR5IjnMRyYF3lMcRT8LXIXnwgNB2hlRDDIloyHrcMTSi/ygXRkkyjxB1IgPpH7qMzSve++EPf2gjHnw+ExJIokjgJlxtFJ5XDZ1UbHxBxv3x0OeQF8XIX9UyHU0gnYJnIS06A+kEySn4vHhiwPGFjP8DPF48diHDh51K3N7OAxku9v4HyV2UePz4sNxZTPdxxBLIol1pJ/RujHllY3a2qwqJygsBISAEhMC/EEhh5Lk1q+gMpFv/SGFPKBQesbqkLnZtHAgC6eQJA4hIIJcQ44tf/GLmNR5hch3C0FgPCWUjxHS55ZazHkfOWrkoI59Ahpuqeec5MUqzst4SaUT9eoRAUwik0C155Mt3oPDdENrujkzx/XAWmO/+hhtuMLfffntfbo4sAhmT6CrvGo+Y6z3KCKQfpeAiA4rOQPpENfRcurn03ycCA2LIN8/ND2HCIXQyZyU5g+3OefpthGOkDTbKOLbGMTr0CLdGcEaSDay8KErnXfXlLawbwu/OtfvnJ4t0fSr57WgC6Wdh3W+//ex5ifAwaFYWVgccoS9kr3PvOKFzO5vUD/DUS9iKC4MJwc0iZf7HeOaZZ9o4ap4ssliVQBZ5IPM+lqyPQHdLpvpMVI8QEAJCIB2BdFlYOaOCMUcYpv9kZWHlHuEsAhl60mI8kGVrI7v2dduKlRffGITkceQk6x7I0GjFg8kuPckr2O0nJC/L8Mzz9oYeEhLS4ZnhD6FheoTAQCMwkAQS5wgEhVBONk3w0IXfop+Mxr8SyJUj4VTecakmCSTno7HZ8Xy6M4tNEEg2s/Be5uUTqTpGcOMMJUkviVzMc3o5zhBGiiCPzrPoPI54K0Ugc75U5+XjPkjipsl86ly//j2QCBNZj3BHO/D9GGeqd4dSubyYzE3seBI2Awn144xZvHHrswvhZ6LydzD9D815Jv0kOFkhrMSd+6G4Vc9AskA6Y0MeyIFW7WpPCAgBIZDGA+mvFWT/g6xxpi+8BxKjDZ0PoXMhrYSN+WeK3Fk+wqXcnY/OsOFcEj9z55Ni10aibzCc6rSVJSv0lXXZzxvg1ngIIcYo3r8YAknIHeu+T4bdGo/B58Jc3VqJkUV5znv5+LtrUkjSw79JjuHnIMCbidH3la98pe9Cc30HQqAJBJokkP53xjeB/etuJXB2qSvz6KOPTuGBDHWJu9MVDx36K0xyWZVc+XjmeSD5biFe2OsffvhhP7s9JYGEXIMJiXXQBfAO54hijvg30Q0xYwQbwu8J5XV1kMwLchgm/nT/LzsDSdSFS9CT52kc9B5IJ1Awbg6sMlns2HK+gd1YF6tNTDFu5DCtLUlvyJzELoqfzZRzFAiEf5AeckamIxY2zjFyeJWFtygEhsyq7H6wC0JmJRZA+kiWJJ9A+oeJye6GINFnt+PpiCkGAoseh/bDLKwIIBjwvp+FNQzLUQhrE2pddQoBISAE0nkgqYmECC6LIf/H8wZxc+foWXtYq1zSBco4o81lPWRdIIEDyR18D4G7Aot07qxriyyyiM06yPknjMaytTFFWxDi8HHrE2NlgxaD0I0Xg4p1nCeGQLJeEmEEBmRydckowCKLQHLMhLUTIogHmEQhLtEeBN1PUOHWX6KSSKxBubzzWvouhEAqBFISSM4akjgKmxliyOaKfwuBIymc88OuxFkCsSERFd+Hsy3zdMmMM85oE8yQ9Rhd5TK5hllYwySYVUJY2bghVJSQUex17HLGQHtEJXKm0JGylAQSzuA2ozifTaIgeAe6hfH+8pe/tLwihkCi07irEs4S3tbgNgKzyB7t4BnmCbOw+pxHBDLi64OcXXfddfY+FogjHwVx2+x+sMBCFN3jAOW+KNJ7k5nI3ftE3DGHd115DhHjDicW3N1jg2BweBVS6KcBD8kaCw7nLa655hrbNB5QFmrCanwCieCTsQph4c5JyCuCERJI6nD36lx22WX2vhjGyY4oAsNB3byPxY1dBDJCmFRECAgBIdAiAimMPNc0+h6j7eqrr7b6HmMFcoXBwBoUZjaENLmzNBAnzjGxNhx55JG2SueB5N+ENuG9ZO1jHWQnHaMRAhmzNtZti/Cv8OG8I2esHnrooX7rOGsiBI/1Nu98VfhzIolYVzlCgtFKFleOo7De+3dlujWR80cYfGREBDvKEwbmhw+zpnNVF7aGu1cS7LgH0l9/WxQdvSYEChFIoVuyrvHAO4hdy/eBPOMwcToCcoPuIRIC2xXZ54y2b+9m6RK+76zvheNcbOxwFVDM+cCs5JhZY8AWJsri61//et+VIT6YqQmki0TExscTiW4m+Q06l7sYcVjFEEgiJ+Et8ARIqeMu6GG4CzZ9FgmkfTYBuCYFPUf7cJ5NNtmkj5swfhHIxEplIFy3ibus6oSAEBACQqALEEhh5LVrmINxbdSmarukTe1WRaCbdUvVsap89yPQ0Ul0WoV3MC6SrWKl94SAEBACQiAegW428gbj2igCGS/bKtleBLpZt7QXObXeDgREINuButoUAkJACAiBrkSgm408Echlu1Lm1OnBgUA365bBMUMapY+ACKTkQQgIASEgBIRAJALdbOSJQIpARoq5irUBgW7WLW2AS022GYGeJJBtxlTNCwEhIASEQI8iICOvRydWwxICbUZAuqXNE6DmKyEgAlkJLhUWAkJACAiBwYyAjLzBPPsauxBoDgHpluawVc3pERCBTI+pahQCQkAICIEeRUBGXo9OrIYlBNqMgHRLmydAzVdCQASyElwqLASEgBAQAoMZARl5g3n2NXYh0BwC0i3NYaua0yMgApkeU9UoBISAEBACPYqAjLwenVgNSwi0GQHpljZPgJqvhIAIZCW4VFgICAEhIAQGMwIy8gbz7GvsQqA5BKRbmsNWNadHQAQyPaaqUQgIASEgBHoUARl5PTqxGpYQaDMC0i1tngA1XwkBEchKcKmwEBACQkAIDGYEZOQN5tnX2IVAcwhItzSHrWpOj4AIZHpMVaMQEAJCQAj0KAIy8np0YjUsIdBmBKRb2jwBar4SAo0TyEq9UWEhIASEgBAQAkJACAgBISAEhIAQ6GgERo0albR/U336fw81/u1vfzMjR45MWrkqEwJCQAgIASHQLgS0rrULebUrBHobAemW3p7fXhtdE/IqAtlrUqLxCAEhIASEgEWgiUVT0AoBISAEpFskA92EQBPyKgLZTRKgvgoBISAEhEA0Ak0smtGNq6AQEAI9i4B0S89ObU8OrAl5FYHsSVHRoISAEBACQqCJRVOoCgEhIASkWyQD3YRAE/IqAtlNEqC+CgEhIASEQDQCTSya0Y2roBAQAj2LgHRLz05tTw6sCXkVgexJUdGghIAQEAJCoIlFU6gKASEgBKRbJAPdhEAT8ioC2U0SoL4KASEgBIRANAJNLJrRjaugEBACPYuAdEvPTm1PDqwJeRWB7ElR0aCEgBAQAkKgiUVTqAoBISAEpFskA92EQBPyKgLZTRKgvgoBISAEhEA0Ak0smtGNq6AQEAI9i4B0S89ObU8OrAl5FYHsSVHRoISAEBACQqCJRVOoCgEhIASkWyQD3YRAE/KanEB++OGHhj+TJk3qJmzVVyEgBISAEEiAwDTTTGOmm246+6fdT6pFU+tau2dyYNvvJBke2JGrtVgEUumW2PZUTgjUQaAJeU1KICdOnGjef//9OmPUu0JACAgBIdADCMwwwwxmxhlnbOtIUiyaWtfaOoVtbbwTZLitAKjxXARS6BbBKwQGCoEm5DUZgWSH9t133x0oLNSOEBACQkAIdDgCQ4cObasnsu6iqXWtwwVsALrXbhkegCGqiRYQqKtbWmhSrwiBlhFoQl6TEcgJEyYobLXlqdWLQkAICIHeQ4BQwJlnnrltA6u7aGpda9vUdUzD7ZbhjgFCHemHQF3dIjjzEbjiiivMtttua84++2yz0UYbCaoECDQhr8kI5Pjx4xMMUVUIASEgBIRALyEwxxxztG04dRdNrWttm7qOarhMhp9++mmz5ZZbmt12220Kg5ffXXDBBWa//fYzhMS6xxnJ4UCXXHJJc95555kRI0Z0FAapO8Nxp3333ddWe9RRR/XDJnVbTdRXV7fQpzfffNNss8025o477ujXxdGjR9ufr7XWWm2N4GgCt5g6RSBjUKpWJoW8hi2KQFabA5UWAkJACAiBCgiUGd8VqqpctO6iKQJZGfKefKFIhh0RWnnllacgj84Q3nrrracgSfzu0ksvNeecc46ZffbZ+3C79957zZprrmmy3gnBdQRkn332MSuttFLXYV+EXacPpq5u8QnkfffdZ5Zaaikz/fTTm8mTJ5vHHnvMvPXWW+bQQw81u+yyixkyZEinw5G0fyKQSeG0laWQ10FPIE855RRz4oknWhxWXXVVc9JJJ5nZZpst/WypxkGNwPXXX2/Hv+6663YdDixcxx9/vBkzZkxbvw0w3H333S1+iy22mDnttNPMQgst1HV4pu5w1vx88MEHVq9tvPHGuRjxHnj+8Y9/tF3aY489zK677lqpe63MyWAhkA8++KC55557KmNaaQJUuDYCMd9K2EiRDEP4jjnmmH5E0JFAV08VAukTC0gh5DDv6XYCybiy8Ks9yQNQQQqD3M3fa6+91s/rfPfdd5vtt9/ezDrrrIPCGx1OlwhkegFOIa9hr3rOA+kMHIhhlvEOgeTJM5x6gWA+99xz5pBDDrF/OsHgLpuTmE+FeXnooYeSEH4MvVNPPTVJXVl9Z7zXXHPNFPX7Y7jwwgtzx5Nn6Ic/z5PxIjwxng4//HBbBIIIUeQ58MAD7e6nexjD/fffP8XPY+YqdZlU8uzwY0d3+eWXT93NluurgrUbw/rrrz+FfiuT65jxx+q/KnMyGAgk2B900EH9Njnct7biiiuWbiTx/oYbbmiuvPLKUtksk5eYeW5ZWBO8WGWsCZrLrKLsWwlfKpJhyCOPT/QwgNlMIDTzN7/5Td+/wxDWLA+kazvPQ+n3rRcIZLeOIYVBnkcgSUi55557mssuu8zceuutXeldrvPtikDWQS/73RTy2tUEsoj8ucUawsQOe5aBxeCL6ggXZsqOGzeuLUZ0GdEtEq8qxl16Mf2sxtg5ielDtxDIIux9eTrzzDMzZcthNmzYsNxNjiqGaYitX/+PfvQjSyaz2orpR8y8pSiTSp5bNazLDPa6Y6xSf5leKNJZZeOvov+qzEmvE8g8XKt8p1VIVZm8lM1zXXmt+36VsdZtq+j9Kut7ngzHkB+fTFYhkO5c5QknnJBJICCuRxxxRL8h7r///n1E1r1POCRP6AV1/dp7773Nzjvv3HcOz6+D91yY6bnnntvXVpjcJDzPucYaa/TzyPo43XXXXbbffjtZJLzJuU9RdwqDPI9AkryLOWHu2GxeYoklbJefeOIJc/rpp5sbb7zR/h+cOXdL+OtUU01lPeFge9NNN5l//OMfBtl55ZVX7HlKNk4//vhjG6ly0UUXGbIL0wZnd51cEj77hz/8wfzyl7+0nmEevOC8u9pqq9nw2oMPPtj2AXL7rW99qw/Kxx9/3Gy++ea2PO1yhVNZfz/99FPz6KOPmp///OfmtttuM/PMM4/Zaaed7Gb2DjvsoCQ6KQT1/+tIIa9hd7rKA1lG/oYPH24WXnhhG6ZVlUBmLboYSXxghx12WOmucMJ5tlWVGYpF7VUx7lL3268PQydmTprsQ1bdVXefq/SvTEadV++WW27J9PDFGH9VDNOsvvt9LOpvp8hRqn7EYJuFV5nBXkU+6tQfg0PRGKv+rkj/xfTFjbXXCWSefNT9TvPkqkweW5XzunLcbe9XwSlPhiFpeBmJ5PDPMfpYtEogHbnYdNNNczNR5hFYF0LrvFdZCWsc6fPJXpgMyL2HYe88rKFtEkAAACAASURBVJTBGF1nnXX6yOWLL77YjzBCZG644Ya+8EvXT0IyCc0Mz2vmYdTJMpXCIM8ikJCq22+/3WyxxRY2csGRMRfWOnLkSLPKKqtYMnjzzTeb119/3RLCZZZZpo9AcpQBL+aiiy5qsDUgcmQ1hZhCFmeaaSZz8cUX23OWbjMAckhkFgRx8cUXt+SQa4yuvfZaW46Itu22286wAbDZZpvZ/nFGc9ppp7XTxAYDtjd9+c53vmNi+oucQm6pn4RB9Jf6afeBBx4QgUz4AaSQ17YQSLeQXnLJJbb98DxTlkEfGrnu3KI/gKwzjEUhXkXELK8PtBuGCrod1FZCCMvkwQ8hKxqrfxaJcn5fQuPOGYIoGD9UsShcjTGiONZee227q8SD0vDfD+eVMlkhWGVzUoSJP86s+Y7pp5t3X4bCutycur7448ia76xddMaJ8kWJtho6HGPU5BmmWaGzMfXl4d+UAezac/W//PLLheHEVchKOJZwXkMZdd/Gk08+aV/1v6PwG3N1h/orrCP8Tngv7IdfxhECdpnJ1MiTdT6RchhqZecW8zYFimShiv6jf1XmpJcJpJPh9dZbb4pNRvc75pXdebf++bollJ0s/ZmlZ0MZqyPnrn50PQZpVj/L1i1+X7YelI016/2sbyE2zDqmz7EbtXkyHHN+b6AJZBbpA4vQo0m/Tj755CnO2EH+Xn31VUuMqQsDPy9JT974wz44opR3pjMGx5j5HMgyKQxyh4ufRIfvAK/cqFGj7BzgFIEk4gWce+65zdFHH229ezwc62GD4fvf/7454IAD7EYGHki8iq4cumerrbYyTz31VL+kPBD8H/zgB5YU8g5zgF7B04hc0BYP7+24447237/+9a9tVlg2ASCckE82F1zI7fPPP2+JJB7Esv4SovuTn/zEsK6dccYZ5tvf/rb1olIX2XnPP/98EciEAp1CXsPuNO6BzAqFC8+LlBFI1+kYZV9GVvLqcEQEgoTyc15MDDYe32hrkkDGjDUkCuGYfeOO+rK8qGH4TlinG6MzVHxM3NnSmPmg/bI5iflG8ryGsf30Q5HDukJ5zPK8+GXyMK3j2cwyAGknK3lMHrHLIghl3ooy7GNJS1k9Wb9vmkCG8xriE85znpwWYcgY2GiBQLBoZtWRdT7Ox8MRVUcas+SvCpn3dZl/rrWMQDKOGP1H30Ug/zWDRTj4hMgRw7zz0WVhsH6YeSiPdeW8Sj+LvvOq60HZWWSwZUMHL4dLdFe2blXVQ3nfSlhPEYEklK/oGoqBJpAQRcJSjzvuuH5XgYQezZh+4a3CmMcblHW1SFHoqX+GEzwhonne1BhPbtW5bbp8CoM87xoPCOCRRx5pw0x5wB+7C3KV9bjwZL4PyKAfXuraeOGFF/qFw9J/vIhf/epXrfz+4he/sN9aGJqKRxQyShl+x0YTIaxsdqKLVl99dbtBhqPhe9/7nvnpT39qHn744dL+coSGMNUFFljAnh337wvWGcj00ptCXsNeNU4gsxbY0BjqJALJx8GH6zI+8kHOP//8pUkQUk933mJc5H1y4ZHEvBNuwFj4yMNd7SxPWWjAxMxJ7LnEpglkmBDHxy5rrOHYsuY4C3+UpbuvibCfMElTXbLmk+0i46qITPj9rkI68uQ3xZjqfhtVyIrfVjivoYxnkeOs8VbFoOochPVnzVsVT3LeRkYMgYzVf1XmpJc9kEWbRlnzmIdb3txkkaiss6r+GlVVzvlmOAvtJ/upMr/um6u6HhTpuLw1KozwqPJdZOmh2E2/dhDIPCLojyMrhDXMABuO24UsxhBIF5brn7d07+d5Ol17WQQyz5M52Amky8I677zzmssvv9zabZBtvku8jW5OIZYk2wqfWWaZxYadOg+kn3gn75yl80ivsMIKlhw68pmVtCckdKHnE28hJJOkUMstt1xUfwl9ZVPBtZ91R2p41rauLTGY3+9KApmnoH0jK4asMPExO5xlZKXIA8mH6YcGpTDAWxXYqmFoPoZggNeRsLyscLowlMjvoyObVebEhYZmteWTorxzqTEYFXkgiwhkliHk14XSQkm7sC2/L2EYoZMHyoRZS/lZVaKRNe4Yg6hILn2Dk7rCHfwYrP0yKcZUtc2wfCvGbAwJywsXD+W4DIOsUFcnOzHz2SkEsor+qzInIpCfZWGtSiCz9J4vL1nkL5S5MjlPRSDdGh27HhQRyKxNvZh1q6quSUEgwys8wj5UIWr+uzHnArMIZAzxpJ1W+uWIjEuAU9UDWTUUtup8DmT5FAZ5Frnj/B95N7BrzjrrLHv+lRBX7gbFY4e9Qhhp1uOIfh0CWeSBdB5HF7JKZBdnNI899ljz3nvvWc8k51ydnBT11xFYiC9JdJy3lXG585QikOkkOoW8hr2RB/L/Ecky9FKcaWt1+lN4IPFC/va3v50i22fMuGIJpBtfVqiy+10ZqY/BqCkCSWhUrJfZzYnrb3gWLdYYKRpvDOEoIpD+mayxY8fapurcRdlkCGvMvFOmClkJ5dH3qsR4ZrL6VEQgs8JTm/BAVtnMaiWEtar+qzInvUwgY0JYYzx7ed99CgJZ9g1X8ZTGfrMx60EegWTMWfdpxqxbsf1z5eqGsMZ4zuoQtbIrHLIIZEzynVYJZPgeV5RkXUWSdwayiECWhQJXndumy6cwyPO8g88++6w9mwiZhEzhhSRMlegyzgtyPpLHZTFFx+K9rEMgIalFZyCHDBlizyTON998tu0LLrjAhquymU5WeTZNf/jDH9rfvfTSS6X9ZfOeMRL+ClHm7CUP3lgyy5JpVgQynRSnkNewN40TyKyFJDwHEi7C4Zkg1+m88yP+oMrISpEXMwzBCc9b+IsOu/V5SXRcHyhPGXd+o4ooFI01Cz//nKOP5xe+8IW+e//CBDpFV5RUJZCMrcxrmueBdDvLc801Vy5erRLIrHBp5s5PolN2Ro2x+Zjz/6xMvzHkr0wGYuooIxOMh7lgJ9A/P1TWdvj7onZSyHiKM5BFsuMTP3eGlyt+nJc966xhFkZF8hF+i5RFvnzvNWVY9F1YfNhGjAfSyWDM3Zxl32Ge4R6r/+iLCOS/ZjFmM6cOgcza9ED3ZCVh8s+vVpHzJghkzHqQJYdZIbv+95K3Jmd9U+BUluguJqqJugfyGo8sEpCnu/PCSF3IoU9AKQtJ22STTWwmzhhiS7skWyF0kidsz/0/KwsrXqhzzjnHZqctu+5E13i81u+MKcSQsFA2qcGeEFOu5oBYTTPNNPbMPWHrXPPxzDPPWJxHjBhRi0Ayv9gLnIUMs7DiccTTuMEGG9hENzxEuEEYOWdPn0iwQ5946P9VV11V2l/KMEY3Jr4zdBfZ+7lLWwSyqtWWX74rCSTDcYsggsGTlU3TD7PB+EIQw4yDYZa2kARkxYaHYYhlC4bfj7yQTGckFi1Orp6yBSxvuovG6hZnP6tomNkP7yN/yAbq8CeTl2/EhqFNIZ5FoaFh/+hTTGZAyoVzkkcCstrgfT+xTAzR9UOfGCOGC7tnPrlyc+rPh5/4AmOkLDOrmxf+LsuUmTfvZefUYmTc1cFZhFb7Qf/KSEIqGa+ThbWIQIbyw31aZJn0M2ZmhcVlfbP+t+LLX9gG3wBZN/nWfOzDMNc8AsBinEdKyubD17VZxnnM5kSM/ouRDV++e9kDyTjzPNQxxCwr/Jk6fRn0dRNy47Klug3BunIe088yMyZmPSgba56+D+2FonXL9TNmUzLme3D1FclwGfkpImpcrRA+4T2MZdj7Zx79d7POQvqEMpZAck7Nnf2nL1n9C++kDO+cLCKQZeSybPzt+n0KgzzPA8mY3n77bUvAuB8RmWcDnisusMv8OxpJhMMVGIS11vFAsqmAx/N3v/udJaR33nmndX5wXQtZWFnXHHmkf5RFB/3qV7/KDK395JNPSvtLJtfrrrvOklb03OjRo81ee+1l77DEOykCmU66U8hr2JvGPZDphp+mpjICmaaVz9L2Z6VlT9WG6uk8BGK9Wk32vIphlNePMi8n7znDtmkZjyFOTeLZSXWXeWCK9FsKufANdH+TqgijXieQZVEvnSQ/g6UvZefVwaGKLVAkw914BUUnyUG34teEQd5J86K+9BYCTcirCGQDMhIbmtdA06qyAxCICbVusptVDKO8fpQljhlIGReB/GyWishK2RlcEcjqX9348eOjXooJg4+qSIWSIFAWJVT2rYSdKCKQLoxz5ZVXtglP9MQj0M3YNWGQxyOnkkKgGgJNyOugJJAu9DMrlLbalExZ2i1ceeGvdevX+92BAASMp04Cmyoj9cO/6soeRIN04GPGjMk8vztQMu6HvGXdh1kFn14qmzU/zD96beONN7Zh61lPeJQgDCWPwaiVOel1D6TDLS/5SwyunVwmL/TU9bmuvkk5dl8P5kVGxHwrVQgkZV1GSUIORSLjZtSRR0oX3aMZV9vAl2rCIB/4UajFwYJAE/KajEBOmDDBTJo0abDMhcYpBISAEBACJQiQHMG/IHqgAau7aGpdG+gZ67z22i3DnYeIegQCdXWLUBQCA4lAE/KajEByoJZMTXqEgBAQAkJACIAAd3vl3Vk2EAjVXTS1rg3ELHV2G+2W4c5GZ/D2rq5uGbzIaeTtQKAJeU1GIAFk4sSJNs2zHiEgBISAEBjcCJDVj/vL2vmkWDS1rrVzBtvbdifIcHsRUOt5CKTQLUJXCAwUAk3Ia1ICCRDs2PJH4awDJRZqRwgIASHQOQgQ8ofXsZ2eR4dGqkVT61rnyNdA9KSTZHggxqs2qiOQSrdUb1lvCIHqCDQhr8kJZPVh6Q0hIASEgBAQAukRaGLRTN9L1SgEhEC3ISDd0m0zNrj724S8ikAObpnS6IWAEBACPYtAE4tmz4KlgQkBIRCNgHRLNFQq2AEINCGvIpAdMLHqghAQAkJACKRHoIlFM30vVaMQEALdhoB0S7fN2ODubxPyKgI5uGVKoxcCQkAI9CwCTSyaPQuWBiYEhEA0AtIt0VCpYAcg0IS8ikB2wMSqC0JACAgBIZAegSYWzfS9VI1CQAh0GwLSLd02Y4O7v03Iqwjk4JYpjV4ICAEh0LMINLFo9ixYGpgQEALRCEi3REOlgh2AQBPy2o9AdsAY1QUhIASEgBAQAkJACAgBISAEhIAQSITAyJEjE9X0r2rkgUwKpyoTAkJACAiBTkGgiV3XThmb+iEEhED7EJBuaR/2ark6Ak3Iqwhk9XnQG0JACAgBIdAFCDSxaHbBsNVFISAEGkZAuqVhgFV9UgSakFcRyKRTpMqEgBAQAkKgUxBoYtHslLGpH0JACLQPAemW9mGvlqsj0IS8ikBWnwe9IQSEgBAQAl2AQBOLZhcMW10UAkKgYQSkWxoGWNUnRaAJeRWBTDpFqkwICAEhIAQ6BYEmFs1OGZv6IQSEQPsQkG5pH/ZquToCTcirCGT1edAbQkAICAEh0AUINLFodsGw1UUhIAQaRkC6pWGAVX1SBJqQVxHIpFOkyoSAEBACQqBTEGhi0eyUsakfQkAItA8B6Zb2Ya+WqyPQhLyKQFafB70hBISAEBACXYBAE4tmFwxbXRQCQqBhBKRbGgZY1SdFoAl5FYFMOkWqTAgIASEgBDoFgSYWzU4Zm/ohBIRA+xCQbmkf9mq5OgJNyKsIZPV50BtCQAgIASHQBQg0sWh2wbDVRSEgBBpGQLqlYYBVfVIEmpDX5ATyww8/NPyZNGlS0sGrMiHQCwhMM800ZrrpprN/9AgBIdAsAqkWTa1rzc5TL9YuXd+Ls/rZmFLplt5GSaPrFASakNekBHLixInm/fff7xS81A8h0LEIzDDDDGbGGWfs2P6pY0KgFxBIsWhqXesFSWjfGKTr24d9ky2n0C1N9k91CwEfgSbkNRmBZIf23Xff1YwJASEQicDQoUPliYzESsWEQCsI1F00ta61grreCRGQru89mairW3oPEY2okxFoQl6TEcgJEyYobLWTpUd96zgECHGaeeaZO65f6pAQ6BUE6i6aWtd6RRLaOw7p+vbi30TrdXVLE32qU+enn35qXnzxRWuTzD777HWqqvzuMcccY4444ghz6623mpVWWqny+3qhHIEm5DUZgRw/fnz5CFRCCAiBfgjMMcccQkQICIGGEKi7aGpda2hiBmG1Zbr+iiuuMCeffLI577zzzIgRI8zTTz9tttxyS/PYY49ZtNZYYw1zzjnn9DPueWfbbbedAs0ll1yyr55ehtphtNtuu5mNNtpoQIdaV7fQ2TfffNNss8025o477ujX99GjR9ufr7XWWgMWpfTXv/7VYrj00kubs846y8w666wDhqcIZPNQp5DXsJcikM3Pm1oQArkIlBkVgk4ICIHWEai7aIpAto693uyPQJGuhwjtvffe5rjjjusjj/7/yS2x7777Wg+RTyIhkJdeeukUxPLee+81a665ptl6663NUUcdZTiHmfeEbXfbvLWr/3V1i08g77vvPrPUUkuZ6aef3kyePNluGrz11lvm0EMPNbvssosZMmRI1LRwjOyqq64yDz/8sDnkkEMqeRKfe+45s8MOO5hll13WHHzwwYUyE9WZCoVEICuA1WLRFPI66AnkKaecYk488USLw6qrrmpOOukkM9tss7U4Jb392oMPPmg23HDDvkFeeeWVZvnll+/tQUeMDsV+/PHHmzFjxvSTneuvv96+ve6660bU8q8iIpDRUKmgEKiMQN1FswqBRF/ec889Ztddd63cT73QXQjkrQFFoyjS9RjQPPvss4/9e+zYsfbv4cOH91XpvG0nnHBCX5hfHoHkJefdIiTQ1ZvVv3YRsJQzHuKXsu68uurqFn+OXnvttX4e47vvvttsv/321gvoPNIxY3IyMvfcc0+xqRDzfrvKiEA2j3wKeQ172XMeSIz43Xff3RLDLEMeAsmTt8h3AsH0+0Bf99hjj7YaJSyWYMpOWB0Cmaqe1J8aMnP//febAw880O4AFj1uDOuvv/4U8tXK+EQgU8+m6hMCnyFQd9GMJZCQx4MOOsicdtppZqGFFuo3BR988IE5/PDDzV/+8pfM39edr1j9hYdh5513toZp2SYX4zn11FNzN1jdmFZcccXSuuqOr5X3q4y1lfp5JxZ3V3+erndED5JXdP7Lldt00037wjWLCCTtlv2eMr1AIPG4QkLCEN9W5zbmvbq6pYhA4kncc889zWWXXVbpXKAIZMzMDc4yKeS1qwlkEflzCxqL9x//+EeTZeAz+KI6wgWBsuPGjYsiFk2JZCukJHVfUvWh1XqqLtRVx1+l/rINiCJDMqtfIpBVZ0vlhUA8AnUXzRgCWaTXIDKEkq299trmwgsvFIGMn7paJQeCQDqbY9iwYVEbvHm6Ppb8tEIgs7yWDlgXFnvuuef2w/rss8/uI6jhOcwwJNZ5/rC3/POafh0+UfLP+oUJU8LznOGZT59o33XXXTbpyv7772+9q7EkvJZQBS/X1S1FBJLkXWz2EMqK3lhiiSVs60888YQ5/fTTzY033mj/D0ac/yT89dhjj7WY+I87C7vwwgvb6IiLLrrI/OlPfzIvvfSSdQb8+Mc/Nt/97ndtiKyb6xVWWKEv7NmFQoPzeuutZ+u/7bbbzJe+9CVLcNdZZx0z1VRT2SaRp0suucRcfPHFBjuIs5SbbbaZ2WKLLfquLPvkk08Mc0cU4J133mn7QD2PP/64OfLIIyuR5ZRzORjqSiGvPUsgIQGEe/Ch4C2rSiCzjAC3CB122GG1PG91hLMTdnpbJX7huFutpwrBawXr2PqdMYhBGHoZ/HbLSKZfVgSylRnTO0IgDoG6i2YMgczTH+juM88802y++ebm2WefzfVQxo0kv1Ss/qrSTrd7IKuMtU7Z2DWBNvJ0PcTp+eefLwwz5X2M+b322qtfSGOZhzGLdIbjzfNAOvLgiJ4jnLzvzlW60EOfWIbvZfWBMjx4XPPOd1L3DTfc0DdeVw9hnXjRfW+tq2PllVcesGQ6dXUL43dj8kNYyYZ6++23W+JFpAAhy9wZ7cJaR44caVZZZRXz8ccfm5tvvtm8/vrrlhhSx5///GfrtZxlllmsDczfG2ywgSELMMmWwA5S+dFHH9l3GQMJcyCCRQTy61//um1vueWWs+1dffXV9vgO7S6zzDKGu3KJ4OL85fe//30z11xzGb4Nym211VZW90033XT290T/0R8IKd8EDh/ehywrC2sdbVT8bgp5bQuBdCSI3QmexRZbrN9ObNZi5RvhYUinG0TWGcaiEEPeyzPu8/rATkkYDuvOBuaFyaYUgSoLVNV23by8/PLLhWdBWyV+9Cc8R8nP/LOUoWywY+VCSV04cjiuUH4c0X/yySdtUb8O925YxpcdZ4Cxy7fffvvZV7LChilHEoOyM05lxpc/HhHIqlKr8kIgHoG6i2YZgXT6C2OoKLy/amRC/Ag/C6XM019Of2Oo8RQd73D5ASgXrq+hDg3rKtLllHX6c/7557ebvHl6tmzsoT3gjydmrFn2RLhmxJ7/r7LBm6frY87v5WUbbYpAOkI2zzzz9CO2oUeTvkMG/dDR8N2yENk8D2xYT9mZzhgcy2Sryu/r6hbacmPyk+ggU48++qgZNWqUJeo4RSBtHCHibOPRRx/d59F76KGHDCHNkLYDDjjAkjY8weEZSLAkmo5vz3kMIZtERuy00042WQ+2De9meSAhnXiqF110UQPBxQuKrUT/eB85pH3I6GqrrWZh5A5dbDk8lnhR55xzTkv8X3nlFfs+4e88nPdFH9xyyy0ikFUEsGLZFPIaNtn4GcisMI9wMS0jkK7TMZ6dOgTy2muvtQLPx+a8mHxUPD5paJpAhgtxU8lrmiaQ4TyHRDRLNrLChot22KmDecOA4/xi1vyXeZIdUXWkMat8FUOBPpDFDBkq8lQiVyKQFbWgiguBCgjUXTTLCGTsBl/TBBJdU6S/gKxIh4V6N1yTQ50Y1hWjy2P0bNnUxnpbY/V1lq4O5ypm/YjZWCwikAsuuGCu58yFdrpwTR+jpghkHukLvYl5pI2fv/rqq5ZgYE9xJQVP1hnFIuLnj4/3qcc/AxpiEePJLZOx2N/X1S20k3eNB0SOkM6hQ4fa7jzwwAPWG8nZyKzHeYBxBmQRSNfW73//e/PII4/Y89gu02v4bhaBxPMNQZx66qlt8458IpOE0PI35DHvwbPIu4wBzyqEddppp+0rriQ6sVLXerkU8hq23jiBzFpgQ+XeSQSSHRk+XJcMgYWVXZuypAOtT2vxm1XPWTTRj1Y9kCF2YT3IBrvHKBOXCTdLXmKNBjf2cKOhbOMhrD/L+KiCQZWyIpBNSKzqFAL/QqDuollGIGOjDZomkH4SsDzylPfzPBLlJ9EJoy/CumJ0eYyeLZNb6jjjjDNKz5LGEMg873HWml8ld0LeGFohkGWGdRmBLPP+0desMi4MNW8s7oxjDIHkCpHwvGUYFht6Ol27WQQyL9lQbChwmYzF/r6ubnGkDlLsQljnnXdec/nll1vvHkSZ5FuEr7r5gBz6mfFdXwlVXXzxxXM9kE899ZTZcccdrRfym9/8pvnKV75iw1g5fxhDIMPNC/9sJM4VrpjhbCN/M5fh8+Uvf9nKGVfLZG2ElMl57JyoXD4CKeR1wAlk3gLrK+ROIZB8mH4oS8wiNBACG2ukNNWXKoTI9SGGhGWFt/J+GKJaRiCzQl3dbnzMHMYYNlUwqFJWBLIpqVW9QkAE0t/4zNOFWZt24ZoTEqisTeAsw9bX5TF6NkZmfX2fdxVXrN4PPYdh9I/fn7xs6GXrk6ujSgirI1x4noqucSgjkPye5ClFd0FmEcgY4sm4Ygmkj6PzqJaRUN6pQiC7OYTVPwNJ6Cd5N9jAwau30UYbGUJcIV/c0wip5Dxh1pOVhZWziz/72c/sWUrOJH7jG9+wr4Z3hTrvZV4SHf8qmCwCedNNN9k7STknmfW4d0Jvpt8/nYGM0YCtlelKAtktHsgso79KKGJrUxr3Fou5C68tu2YirsZqpaoQoioEMmvXOqtnRQt01s5+Ex7IGIPE9b2K3IhAVpNFlRYCVRCou2iWeSA7JYS1jgcyBYGM0eWpCKQ//3mZ0sv0Nf3F0wMpDNfUqlFHsWfjqyTRyUqYkyX3RQQyTGaT991kkcWY5DutEsjwvbwx5J2BzPNAQiCLQoGr6I2YsnV1C21kJdHh5yTd2m677ew5Qs4e4oXEU8j5QTzwnI/k4Twi5yWRLbyXjkBy3pBwYf72vb8kziEBz+TJky1B5ahNXQ8k88GZRryP9Nl5TekfIbfYaKNHj+7rGz935yn5t/OOUk4EMkbyWiuTQl7DlhsPYc0KwUThXnPNNX2JW8IFLDwr4TodvpcFY6tnIKmLhYNDyYRVElKZtziVnYF0faBOV1drU24yz/S5ulwygFbPSKY4A+nOh5B1KxyrbzC4c6UkcnD9jQ3PLQr/CmXCzY2/W+x+lodTrGETu9NcxWMsAtnql6H3hEA5AnUXzTICWUZUXA/LQljr6PJY/RUb2ur0pe/d83UaIYkYiSTFcwlsYnR5bD/LZ/WzEnk6uWheyjb4yubK71/s/PNOlWs8Yr1peeSrSkhgHll0nkLfqGcdJ8vnJptsYpCDGA8kni2+QzJ98oTtFWVh9RP0FF3V0WvXeEAMzz//fJt7g7BVPMh4+Dhv6DKYcrSKc4zPPPOMJYsjRoww6CtIHFlcyQvBdRsbb7yx/f+YMWPMsssuaxPnMCeQTbzTKQgkHlT6xvUiZMJdffXVbYgsfeaaEEgmnkaOhpFn5Itf/KLtHw/nMfGo0kcRyCrar1rZumthVmuNE0gaDTOjZYWd+JnRMP75OMrCS8IFLiuEJgw7KTsP5/cjK5sn4ykjkI6MZmVwLZvyECvK5xEf14+8fpa11TSBDMOByMTFDpifsTArZChrPP68+GFR4fu8SzZCspZlJT5ymGRlYXXZX6uEemVhXCZj/jsiq/LMhAAABLtJREFUkGVSqt8LgdYRqLtolhFIela0sZSXQTzU6XV0eRkxyzsq4K+NfoZVdCMZHy+44IJ+59P9sUAcWZ/9/ABlurysnzGzHOIZ2hIxY82ak6zM8KE9kbUOx3qgiwhkFvlxBDALE/9+xPDuRFc+65xZEb5+Pf4djllnIX0jP5ZA+ndE0o/wnkh+Fo45vHOyiCTG3qUZI2OxZerqFtrJ80Dyu7ffftuSMrKYIrNcy8E5QzyH/jUoJKVZa621+sJaCXvGloEcQuROPvlkm5WVv7l2g4c7JiGXhLinIJDU+cYbb1jvKM4hyCmElvOWhN3ON998tl02CyDGhOaSZIlwWkJasQu5Y1IEMlb6qpdLIa9hqwNCIKsPtbk3qhj3dXpR5vWqU7d715FNYs7Lrpao014rIax12uvkd/O80q7PVbyPvCMC2cmzrb51OwJ1F80YAlkW9RKD4UDp8pi+qEwcAlW8j2W6PtbjGNezwVeqHfjV1S2Db5Y04nYi0IS8ikA2MKOxnr26TbtQ31ZDWGPbF4H8DKkiY7EVnEQgY6VQ5YRAdQTqLpoxBJJeVQl7zBrFQOny6gjqjTwEYo80uPeLdH1s0hrNxpQItAu7urpFcykEBhKBJuR1UBJId1lyXga3OpNaJxQptl1HVAjTdNeNxL5bpVwYDtQ0Ua3St3aWBf/jjz/enilw14/QHwwKnipXvohAtnMm1XavI1B30YwlkI5EEjZWJRpkoHR5p8+zH0Kb1dcwxLTd48lbA4r6VabrCSMlzLAo62q7x91p7bukMYR6kq10IJ+6umUg+6q2hEAT8pqMQE6YMMFMmjRJsyQEhEAkAhyGn3nmmSNLq5gQEAJVEai7aGpdq4q4ymchIF3fe3JRV7f0HiIaUScj0IS8JiOQpBsmZa8eISAE4hAYOnRo7n1OcTWolBAQAkUI1F00ta5JvlIgIF2fAsXOqqOubums0ag3vY5AE/KajEAC/sSJE22WJT1CQAgUI0AKdO520iMEhEBzCKRYNLWuNTc/g6Fm6frenOUUuqU3kdGoOhGBJuQ1KYEENHZs+aNw1k4UIfWp3QgQysSdR/zRIwSEQLMIpFo0ta41O0+9WLt0fS/O6mdjSqVbehslja5TEGhCXvsI5LPPPmsWWGABM/XUU3fKeNUPISAEhIAQEAItI9DEotlyZ/SiEBACPYOAdEvPTGXPD+Tjjz82L7zwgll44YWTjrWPQI4dO9bMMssshlh9PUJACAgBISAEuh0BGXndPoPqvxDoTASkWzpzXtSrKREgP80777xjhg8fnhSePgJJ5TSSuoGkvVVlQkAICAEhIAQiEZCRFwmUigkBIVAJAemWSnCpcBsRwEGIcxAnYcqnj0BS6d///nfbQOpGUnZYdQkBISAEhIAQiEFARl4MSiojBIRAVQSkW6oipvLtQADnIH/mm2++5M33I5AkCnj55ZfNnHPOKRKZHGpVKASEgBAQAgOJgIy8gURbbQmBwYOAdMvgmetuHSnE8Y033jDzzjtvI4kb+xFIQIJEjhs3zibTwRNJCmol1ulW8VG/hYAQEAKDFwEZeYN37jVyIdAkAtItTaKrultFgIQ5XKcIeeTfw4YNa4Q80r//BZi6uyZ+CH0gAAAAAElFTkSuQmCC)"
      ],
      "metadata": {
        "id": "ZA4udmSAuB8l"
      }
    },
    {
      "cell_type": "markdown",
      "source": [
        "## 📊 Calculating Cosine Similarity\n",
        "\n",
        "Calculate the cosine similarity between the embeddings of the word \"fly\" from both sentences to measure how context affects meaning."
      ],
      "metadata": {
        "id": "gcvcIGiOpLyr"
      }
    },
    {
      "cell_type": "code",
      "source": [
        "# Calculating the cosine similarity between the embeddings\n",
        "cosine(emb1, emb2)"
      ],
      "metadata": {
        "colab": {
          "base_uri": "https://localhost:8080/"
        },
        "id": "GKVSZUxyJNZs",
        "outputId": "7be33e31-5622-47f3-d7ae-4b1c25739c57"
      },
      "execution_count": null,
      "outputs": [
        {
          "output_type": "execute_result",
          "data": {
            "text/plain": [
              "0.06798791885375977"
            ]
          },
          "metadata": {},
          "execution_count": 8
        }
      ]
    },
    {
      "cell_type": "markdown",
      "source": [
        "## 🌟 Conclusion\n",
        "\n",
        "This notebook has guided you through the process of extracting and comparing word embeddings using BERT. Such techniques are fundamental in understanding word semantics and their usage across different contexts.\n",
        "\n",
        "Experiment by changing the sentences or focusing on different words to see how the embeddings and their similarities vary!"
      ],
      "metadata": {
        "id": "gfFR3mbspN8y"
      }
    }
  ],
  "nbformat": 4,
  "nbformat_minor": 0,
  "metadata": {
    "language_info": {
      "name": "python"
    },
    "orig_nbformat": 4,
    "colab": {
      "provenance": [],
      "include_colab_link": true
    },
    "kernelspec": {
      "name": "python3",
      "display_name": "Python 3"
    },
    "widgets": {
      "application/vnd.jupyter.widget-state+json": {
        "026f17f4ab0f4c878fd4a401f62d710d": {
          "model_module": "@jupyter-widgets/controls",
          "model_name": "HBoxModel",
          "model_module_version": "1.5.0",
          "state": {
            "_dom_classes": [],
            "_model_module": "@jupyter-widgets/controls",
            "_model_module_version": "1.5.0",
            "_model_name": "HBoxModel",
            "_view_count": null,
            "_view_module": "@jupyter-widgets/controls",
            "_view_module_version": "1.5.0",
            "_view_name": "HBoxView",
            "box_style": "",
            "children": [
              "IPY_MODEL_26f4bd8703db4532af0c6c2a2259ea25",
              "IPY_MODEL_919c97702cfd47c3a0dd0a33543fbe5c",
              "IPY_MODEL_8d80530dea6b4debb9c062ddddbb86ee"
            ],
            "layout": "IPY_MODEL_a79d1cec46044c399b197dd7d12130c4"
          }
        },
        "26f4bd8703db4532af0c6c2a2259ea25": {
          "model_module": "@jupyter-widgets/controls",
          "model_name": "HTMLModel",
          "model_module_version": "1.5.0",
          "state": {
            "_dom_classes": [],
            "_model_module": "@jupyter-widgets/controls",
            "_model_module_version": "1.5.0",
            "_model_name": "HTMLModel",
            "_view_count": null,
            "_view_module": "@jupyter-widgets/controls",
            "_view_module_version": "1.5.0",
            "_view_name": "HTMLView",
            "description": "",
            "description_tooltip": null,
            "layout": "IPY_MODEL_8abb18d184634c4384fd07d7b73baae8",
            "placeholder": "​",
            "style": "IPY_MODEL_cf7eb6505cee4b4e91f7a7cbcd17a36c",
            "value": "config.json: 100%"
          }
        },
        "919c97702cfd47c3a0dd0a33543fbe5c": {
          "model_module": "@jupyter-widgets/controls",
          "model_name": "FloatProgressModel",
          "model_module_version": "1.5.0",
          "state": {
            "_dom_classes": [],
            "_model_module": "@jupyter-widgets/controls",
            "_model_module_version": "1.5.0",
            "_model_name": "FloatProgressModel",
            "_view_count": null,
            "_view_module": "@jupyter-widgets/controls",
            "_view_module_version": "1.5.0",
            "_view_name": "ProgressView",
            "bar_style": "success",
            "description": "",
            "description_tooltip": null,
            "layout": "IPY_MODEL_43438b4d2b0143679cb17cfcbe0caa35",
            "max": 570,
            "min": 0,
            "orientation": "horizontal",
            "style": "IPY_MODEL_a46dd7d83d8044e0ac350d565c80b516",
            "value": 570
          }
        },
        "8d80530dea6b4debb9c062ddddbb86ee": {
          "model_module": "@jupyter-widgets/controls",
          "model_name": "HTMLModel",
          "model_module_version": "1.5.0",
          "state": {
            "_dom_classes": [],
            "_model_module": "@jupyter-widgets/controls",
            "_model_module_version": "1.5.0",
            "_model_name": "HTMLModel",
            "_view_count": null,
            "_view_module": "@jupyter-widgets/controls",
            "_view_module_version": "1.5.0",
            "_view_name": "HTMLView",
            "description": "",
            "description_tooltip": null,
            "layout": "IPY_MODEL_6dfdea037c414783b8be6a325d585d17",
            "placeholder": "​",
            "style": "IPY_MODEL_4756f63eba014098b0cfa584fdd49384",
            "value": " 570/570 [00:00&lt;00:00, 37.1kB/s]"
          }
        },
        "a79d1cec46044c399b197dd7d12130c4": {
          "model_module": "@jupyter-widgets/base",
          "model_name": "LayoutModel",
          "model_module_version": "1.2.0",
          "state": {
            "_model_module": "@jupyter-widgets/base",
            "_model_module_version": "1.2.0",
            "_model_name": "LayoutModel",
            "_view_count": null,
            "_view_module": "@jupyter-widgets/base",
            "_view_module_version": "1.2.0",
            "_view_name": "LayoutView",
            "align_content": null,
            "align_items": null,
            "align_self": null,
            "border": null,
            "bottom": null,
            "display": null,
            "flex": null,
            "flex_flow": null,
            "grid_area": null,
            "grid_auto_columns": null,
            "grid_auto_flow": null,
            "grid_auto_rows": null,
            "grid_column": null,
            "grid_gap": null,
            "grid_row": null,
            "grid_template_areas": null,
            "grid_template_columns": null,
            "grid_template_rows": null,
            "height": null,
            "justify_content": null,
            "justify_items": null,
            "left": null,
            "margin": null,
            "max_height": null,
            "max_width": null,
            "min_height": null,
            "min_width": null,
            "object_fit": null,
            "object_position": null,
            "order": null,
            "overflow": null,
            "overflow_x": null,
            "overflow_y": null,
            "padding": null,
            "right": null,
            "top": null,
            "visibility": null,
            "width": null
          }
        },
        "8abb18d184634c4384fd07d7b73baae8": {
          "model_module": "@jupyter-widgets/base",
          "model_name": "LayoutModel",
          "model_module_version": "1.2.0",
          "state": {
            "_model_module": "@jupyter-widgets/base",
            "_model_module_version": "1.2.0",
            "_model_name": "LayoutModel",
            "_view_count": null,
            "_view_module": "@jupyter-widgets/base",
            "_view_module_version": "1.2.0",
            "_view_name": "LayoutView",
            "align_content": null,
            "align_items": null,
            "align_self": null,
            "border": null,
            "bottom": null,
            "display": null,
            "flex": null,
            "flex_flow": null,
            "grid_area": null,
            "grid_auto_columns": null,
            "grid_auto_flow": null,
            "grid_auto_rows": null,
            "grid_column": null,
            "grid_gap": null,
            "grid_row": null,
            "grid_template_areas": null,
            "grid_template_columns": null,
            "grid_template_rows": null,
            "height": null,
            "justify_content": null,
            "justify_items": null,
            "left": null,
            "margin": null,
            "max_height": null,
            "max_width": null,
            "min_height": null,
            "min_width": null,
            "object_fit": null,
            "object_position": null,
            "order": null,
            "overflow": null,
            "overflow_x": null,
            "overflow_y": null,
            "padding": null,
            "right": null,
            "top": null,
            "visibility": null,
            "width": null
          }
        },
        "cf7eb6505cee4b4e91f7a7cbcd17a36c": {
          "model_module": "@jupyter-widgets/controls",
          "model_name": "DescriptionStyleModel",
          "model_module_version": "1.5.0",
          "state": {
            "_model_module": "@jupyter-widgets/controls",
            "_model_module_version": "1.5.0",
            "_model_name": "DescriptionStyleModel",
            "_view_count": null,
            "_view_module": "@jupyter-widgets/base",
            "_view_module_version": "1.2.0",
            "_view_name": "StyleView",
            "description_width": ""
          }
        },
        "43438b4d2b0143679cb17cfcbe0caa35": {
          "model_module": "@jupyter-widgets/base",
          "model_name": "LayoutModel",
          "model_module_version": "1.2.0",
          "state": {
            "_model_module": "@jupyter-widgets/base",
            "_model_module_version": "1.2.0",
            "_model_name": "LayoutModel",
            "_view_count": null,
            "_view_module": "@jupyter-widgets/base",
            "_view_module_version": "1.2.0",
            "_view_name": "LayoutView",
            "align_content": null,
            "align_items": null,
            "align_self": null,
            "border": null,
            "bottom": null,
            "display": null,
            "flex": null,
            "flex_flow": null,
            "grid_area": null,
            "grid_auto_columns": null,
            "grid_auto_flow": null,
            "grid_auto_rows": null,
            "grid_column": null,
            "grid_gap": null,
            "grid_row": null,
            "grid_template_areas": null,
            "grid_template_columns": null,
            "grid_template_rows": null,
            "height": null,
            "justify_content": null,
            "justify_items": null,
            "left": null,
            "margin": null,
            "max_height": null,
            "max_width": null,
            "min_height": null,
            "min_width": null,
            "object_fit": null,
            "object_position": null,
            "order": null,
            "overflow": null,
            "overflow_x": null,
            "overflow_y": null,
            "padding": null,
            "right": null,
            "top": null,
            "visibility": null,
            "width": null
          }
        },
        "a46dd7d83d8044e0ac350d565c80b516": {
          "model_module": "@jupyter-widgets/controls",
          "model_name": "ProgressStyleModel",
          "model_module_version": "1.5.0",
          "state": {
            "_model_module": "@jupyter-widgets/controls",
            "_model_module_version": "1.5.0",
            "_model_name": "ProgressStyleModel",
            "_view_count": null,
            "_view_module": "@jupyter-widgets/base",
            "_view_module_version": "1.2.0",
            "_view_name": "StyleView",
            "bar_color": null,
            "description_width": ""
          }
        },
        "6dfdea037c414783b8be6a325d585d17": {
          "model_module": "@jupyter-widgets/base",
          "model_name": "LayoutModel",
          "model_module_version": "1.2.0",
          "state": {
            "_model_module": "@jupyter-widgets/base",
            "_model_module_version": "1.2.0",
            "_model_name": "LayoutModel",
            "_view_count": null,
            "_view_module": "@jupyter-widgets/base",
            "_view_module_version": "1.2.0",
            "_view_name": "LayoutView",
            "align_content": null,
            "align_items": null,
            "align_self": null,
            "border": null,
            "bottom": null,
            "display": null,
            "flex": null,
            "flex_flow": null,
            "grid_area": null,
            "grid_auto_columns": null,
            "grid_auto_flow": null,
            "grid_auto_rows": null,
            "grid_column": null,
            "grid_gap": null,
            "grid_row": null,
            "grid_template_areas": null,
            "grid_template_columns": null,
            "grid_template_rows": null,
            "height": null,
            "justify_content": null,
            "justify_items": null,
            "left": null,
            "margin": null,
            "max_height": null,
            "max_width": null,
            "min_height": null,
            "min_width": null,
            "object_fit": null,
            "object_position": null,
            "order": null,
            "overflow": null,
            "overflow_x": null,
            "overflow_y": null,
            "padding": null,
            "right": null,
            "top": null,
            "visibility": null,
            "width": null
          }
        },
        "4756f63eba014098b0cfa584fdd49384": {
          "model_module": "@jupyter-widgets/controls",
          "model_name": "DescriptionStyleModel",
          "model_module_version": "1.5.0",
          "state": {
            "_model_module": "@jupyter-widgets/controls",
            "_model_module_version": "1.5.0",
            "_model_name": "DescriptionStyleModel",
            "_view_count": null,
            "_view_module": "@jupyter-widgets/base",
            "_view_module_version": "1.2.0",
            "_view_name": "StyleView",
            "description_width": ""
          }
        },
        "e5345b4ce55846e79e6eb6d9cbd30144": {
          "model_module": "@jupyter-widgets/controls",
          "model_name": "HBoxModel",
          "model_module_version": "1.5.0",
          "state": {
            "_dom_classes": [],
            "_model_module": "@jupyter-widgets/controls",
            "_model_module_version": "1.5.0",
            "_model_name": "HBoxModel",
            "_view_count": null,
            "_view_module": "@jupyter-widgets/controls",
            "_view_module_version": "1.5.0",
            "_view_name": "HBoxView",
            "box_style": "",
            "children": [
              "IPY_MODEL_4b2579e15e264c28bad2468d416ed644",
              "IPY_MODEL_3ebc15022af54060855bf07e06ee853e",
              "IPY_MODEL_5d708ddcabef4ea7bc63658821bb6aac"
            ],
            "layout": "IPY_MODEL_3929e0a36bfa442f8f5f4080477d16f4"
          }
        },
        "4b2579e15e264c28bad2468d416ed644": {
          "model_module": "@jupyter-widgets/controls",
          "model_name": "HTMLModel",
          "model_module_version": "1.5.0",
          "state": {
            "_dom_classes": [],
            "_model_module": "@jupyter-widgets/controls",
            "_model_module_version": "1.5.0",
            "_model_name": "HTMLModel",
            "_view_count": null,
            "_view_module": "@jupyter-widgets/controls",
            "_view_module_version": "1.5.0",
            "_view_name": "HTMLView",
            "description": "",
            "description_tooltip": null,
            "layout": "IPY_MODEL_81cefa529fea47eebc747528962420ff",
            "placeholder": "​",
            "style": "IPY_MODEL_226eacfa62154e419d573689c85d0709",
            "value": "model.safetensors: 100%"
          }
        },
        "3ebc15022af54060855bf07e06ee853e": {
          "model_module": "@jupyter-widgets/controls",
          "model_name": "FloatProgressModel",
          "model_module_version": "1.5.0",
          "state": {
            "_dom_classes": [],
            "_model_module": "@jupyter-widgets/controls",
            "_model_module_version": "1.5.0",
            "_model_name": "FloatProgressModel",
            "_view_count": null,
            "_view_module": "@jupyter-widgets/controls",
            "_view_module_version": "1.5.0",
            "_view_name": "ProgressView",
            "bar_style": "success",
            "description": "",
            "description_tooltip": null,
            "layout": "IPY_MODEL_75b8937c16a3494bab2d2d610cbbfdcf",
            "max": 435755784,
            "min": 0,
            "orientation": "horizontal",
            "style": "IPY_MODEL_1084ade188a643d98a867fc54a25ea9d",
            "value": 435755784
          }
        },
        "5d708ddcabef4ea7bc63658821bb6aac": {
          "model_module": "@jupyter-widgets/controls",
          "model_name": "HTMLModel",
          "model_module_version": "1.5.0",
          "state": {
            "_dom_classes": [],
            "_model_module": "@jupyter-widgets/controls",
            "_model_module_version": "1.5.0",
            "_model_name": "HTMLModel",
            "_view_count": null,
            "_view_module": "@jupyter-widgets/controls",
            "_view_module_version": "1.5.0",
            "_view_name": "HTMLView",
            "description": "",
            "description_tooltip": null,
            "layout": "IPY_MODEL_97dd4b237d874dc4b313398ca62bbd82",
            "placeholder": "​",
            "style": "IPY_MODEL_94168ef2d77b43699d6a700b839b58cf",
            "value": " 436M/436M [00:04&lt;00:00, 141MB/s]"
          }
        },
        "3929e0a36bfa442f8f5f4080477d16f4": {
          "model_module": "@jupyter-widgets/base",
          "model_name": "LayoutModel",
          "model_module_version": "1.2.0",
          "state": {
            "_model_module": "@jupyter-widgets/base",
            "_model_module_version": "1.2.0",
            "_model_name": "LayoutModel",
            "_view_count": null,
            "_view_module": "@jupyter-widgets/base",
            "_view_module_version": "1.2.0",
            "_view_name": "LayoutView",
            "align_content": null,
            "align_items": null,
            "align_self": null,
            "border": null,
            "bottom": null,
            "display": null,
            "flex": null,
            "flex_flow": null,
            "grid_area": null,
            "grid_auto_columns": null,
            "grid_auto_flow": null,
            "grid_auto_rows": null,
            "grid_column": null,
            "grid_gap": null,
            "grid_row": null,
            "grid_template_areas": null,
            "grid_template_columns": null,
            "grid_template_rows": null,
            "height": null,
            "justify_content": null,
            "justify_items": null,
            "left": null,
            "margin": null,
            "max_height": null,
            "max_width": null,
            "min_height": null,
            "min_width": null,
            "object_fit": null,
            "object_position": null,
            "order": null,
            "overflow": null,
            "overflow_x": null,
            "overflow_y": null,
            "padding": null,
            "right": null,
            "top": null,
            "visibility": null,
            "width": null
          }
        },
        "81cefa529fea47eebc747528962420ff": {
          "model_module": "@jupyter-widgets/base",
          "model_name": "LayoutModel",
          "model_module_version": "1.2.0",
          "state": {
            "_model_module": "@jupyter-widgets/base",
            "_model_module_version": "1.2.0",
            "_model_name": "LayoutModel",
            "_view_count": null,
            "_view_module": "@jupyter-widgets/base",
            "_view_module_version": "1.2.0",
            "_view_name": "LayoutView",
            "align_content": null,
            "align_items": null,
            "align_self": null,
            "border": null,
            "bottom": null,
            "display": null,
            "flex": null,
            "flex_flow": null,
            "grid_area": null,
            "grid_auto_columns": null,
            "grid_auto_flow": null,
            "grid_auto_rows": null,
            "grid_column": null,
            "grid_gap": null,
            "grid_row": null,
            "grid_template_areas": null,
            "grid_template_columns": null,
            "grid_template_rows": null,
            "height": null,
            "justify_content": null,
            "justify_items": null,
            "left": null,
            "margin": null,
            "max_height": null,
            "max_width": null,
            "min_height": null,
            "min_width": null,
            "object_fit": null,
            "object_position": null,
            "order": null,
            "overflow": null,
            "overflow_x": null,
            "overflow_y": null,
            "padding": null,
            "right": null,
            "top": null,
            "visibility": null,
            "width": null
          }
        },
        "226eacfa62154e419d573689c85d0709": {
          "model_module": "@jupyter-widgets/controls",
          "model_name": "DescriptionStyleModel",
          "model_module_version": "1.5.0",
          "state": {
            "_model_module": "@jupyter-widgets/controls",
            "_model_module_version": "1.5.0",
            "_model_name": "DescriptionStyleModel",
            "_view_count": null,
            "_view_module": "@jupyter-widgets/base",
            "_view_module_version": "1.2.0",
            "_view_name": "StyleView",
            "description_width": ""
          }
        },
        "75b8937c16a3494bab2d2d610cbbfdcf": {
          "model_module": "@jupyter-widgets/base",
          "model_name": "LayoutModel",
          "model_module_version": "1.2.0",
          "state": {
            "_model_module": "@jupyter-widgets/base",
            "_model_module_version": "1.2.0",
            "_model_name": "LayoutModel",
            "_view_count": null,
            "_view_module": "@jupyter-widgets/base",
            "_view_module_version": "1.2.0",
            "_view_name": "LayoutView",
            "align_content": null,
            "align_items": null,
            "align_self": null,
            "border": null,
            "bottom": null,
            "display": null,
            "flex": null,
            "flex_flow": null,
            "grid_area": null,
            "grid_auto_columns": null,
            "grid_auto_flow": null,
            "grid_auto_rows": null,
            "grid_column": null,
            "grid_gap": null,
            "grid_row": null,
            "grid_template_areas": null,
            "grid_template_columns": null,
            "grid_template_rows": null,
            "height": null,
            "justify_content": null,
            "justify_items": null,
            "left": null,
            "margin": null,
            "max_height": null,
            "max_width": null,
            "min_height": null,
            "min_width": null,
            "object_fit": null,
            "object_position": null,
            "order": null,
            "overflow": null,
            "overflow_x": null,
            "overflow_y": null,
            "padding": null,
            "right": null,
            "top": null,
            "visibility": null,
            "width": null
          }
        },
        "1084ade188a643d98a867fc54a25ea9d": {
          "model_module": "@jupyter-widgets/controls",
          "model_name": "ProgressStyleModel",
          "model_module_version": "1.5.0",
          "state": {
            "_model_module": "@jupyter-widgets/controls",
            "_model_module_version": "1.5.0",
            "_model_name": "ProgressStyleModel",
            "_view_count": null,
            "_view_module": "@jupyter-widgets/base",
            "_view_module_version": "1.2.0",
            "_view_name": "StyleView",
            "bar_color": null,
            "description_width": ""
          }
        },
        "97dd4b237d874dc4b313398ca62bbd82": {
          "model_module": "@jupyter-widgets/base",
          "model_name": "LayoutModel",
          "model_module_version": "1.2.0",
          "state": {
            "_model_module": "@jupyter-widgets/base",
            "_model_module_version": "1.2.0",
            "_model_name": "LayoutModel",
            "_view_count": null,
            "_view_module": "@jupyter-widgets/base",
            "_view_module_version": "1.2.0",
            "_view_name": "LayoutView",
            "align_content": null,
            "align_items": null,
            "align_self": null,
            "border": null,
            "bottom": null,
            "display": null,
            "flex": null,
            "flex_flow": null,
            "grid_area": null,
            "grid_auto_columns": null,
            "grid_auto_flow": null,
            "grid_auto_rows": null,
            "grid_column": null,
            "grid_gap": null,
            "grid_row": null,
            "grid_template_areas": null,
            "grid_template_columns": null,
            "grid_template_rows": null,
            "height": null,
            "justify_content": null,
            "justify_items": null,
            "left": null,
            "margin": null,
            "max_height": null,
            "max_width": null,
            "min_height": null,
            "min_width": null,
            "object_fit": null,
            "object_position": null,
            "order": null,
            "overflow": null,
            "overflow_x": null,
            "overflow_y": null,
            "padding": null,
            "right": null,
            "top": null,
            "visibility": null,
            "width": null
          }
        },
        "94168ef2d77b43699d6a700b839b58cf": {
          "model_module": "@jupyter-widgets/controls",
          "model_name": "DescriptionStyleModel",
          "model_module_version": "1.5.0",
          "state": {
            "_model_module": "@jupyter-widgets/controls",
            "_model_module_version": "1.5.0",
            "_model_name": "DescriptionStyleModel",
            "_view_count": null,
            "_view_module": "@jupyter-widgets/base",
            "_view_module_version": "1.2.0",
            "_view_name": "StyleView",
            "description_width": ""
          }
        },
        "94b5a964f35f4aa8b68cec3819e92ea1": {
          "model_module": "@jupyter-widgets/controls",
          "model_name": "HBoxModel",
          "model_module_version": "1.5.0",
          "state": {
            "_dom_classes": [],
            "_model_module": "@jupyter-widgets/controls",
            "_model_module_version": "1.5.0",
            "_model_name": "HBoxModel",
            "_view_count": null,
            "_view_module": "@jupyter-widgets/controls",
            "_view_module_version": "1.5.0",
            "_view_name": "HBoxView",
            "box_style": "",
            "children": [
              "IPY_MODEL_cf9db5615ce94cfe8d46c01504bf9aff",
              "IPY_MODEL_e51ca372ce934180a7883890adf966f1",
              "IPY_MODEL_13c0a1b8bdff44b29e513860f26494c2"
            ],
            "layout": "IPY_MODEL_a3cf0600b516496d8921c9d16d2632c6"
          }
        },
        "cf9db5615ce94cfe8d46c01504bf9aff": {
          "model_module": "@jupyter-widgets/controls",
          "model_name": "HTMLModel",
          "model_module_version": "1.5.0",
          "state": {
            "_dom_classes": [],
            "_model_module": "@jupyter-widgets/controls",
            "_model_module_version": "1.5.0",
            "_model_name": "HTMLModel",
            "_view_count": null,
            "_view_module": "@jupyter-widgets/controls",
            "_view_module_version": "1.5.0",
            "_view_name": "HTMLView",
            "description": "",
            "description_tooltip": null,
            "layout": "IPY_MODEL_bd6db2b5e2164a848c226329ea6accc6",
            "placeholder": "​",
            "style": "IPY_MODEL_d0b16f20cbb24b3da2d2ab4984fd63fc",
            "value": "tokenizer_config.json: 100%"
          }
        },
        "e51ca372ce934180a7883890adf966f1": {
          "model_module": "@jupyter-widgets/controls",
          "model_name": "FloatProgressModel",
          "model_module_version": "1.5.0",
          "state": {
            "_dom_classes": [],
            "_model_module": "@jupyter-widgets/controls",
            "_model_module_version": "1.5.0",
            "_model_name": "FloatProgressModel",
            "_view_count": null,
            "_view_module": "@jupyter-widgets/controls",
            "_view_module_version": "1.5.0",
            "_view_name": "ProgressView",
            "bar_style": "success",
            "description": "",
            "description_tooltip": null,
            "layout": "IPY_MODEL_06d779b9ab8d4b92a4719d0e8d27de38",
            "max": 49,
            "min": 0,
            "orientation": "horizontal",
            "style": "IPY_MODEL_08a03cde7ded4818af1d4d7fff1c8497",
            "value": 49
          }
        },
        "13c0a1b8bdff44b29e513860f26494c2": {
          "model_module": "@jupyter-widgets/controls",
          "model_name": "HTMLModel",
          "model_module_version": "1.5.0",
          "state": {
            "_dom_classes": [],
            "_model_module": "@jupyter-widgets/controls",
            "_model_module_version": "1.5.0",
            "_model_name": "HTMLModel",
            "_view_count": null,
            "_view_module": "@jupyter-widgets/controls",
            "_view_module_version": "1.5.0",
            "_view_name": "HTMLView",
            "description": "",
            "description_tooltip": null,
            "layout": "IPY_MODEL_e821ff11080141dbba8ff9ed6009f8c3",
            "placeholder": "​",
            "style": "IPY_MODEL_63a650624c6a43249b6d0efed7d129a9",
            "value": " 49.0/49.0 [00:00&lt;00:00, 3.37kB/s]"
          }
        },
        "a3cf0600b516496d8921c9d16d2632c6": {
          "model_module": "@jupyter-widgets/base",
          "model_name": "LayoutModel",
          "model_module_version": "1.2.0",
          "state": {
            "_model_module": "@jupyter-widgets/base",
            "_model_module_version": "1.2.0",
            "_model_name": "LayoutModel",
            "_view_count": null,
            "_view_module": "@jupyter-widgets/base",
            "_view_module_version": "1.2.0",
            "_view_name": "LayoutView",
            "align_content": null,
            "align_items": null,
            "align_self": null,
            "border": null,
            "bottom": null,
            "display": null,
            "flex": null,
            "flex_flow": null,
            "grid_area": null,
            "grid_auto_columns": null,
            "grid_auto_flow": null,
            "grid_auto_rows": null,
            "grid_column": null,
            "grid_gap": null,
            "grid_row": null,
            "grid_template_areas": null,
            "grid_template_columns": null,
            "grid_template_rows": null,
            "height": null,
            "justify_content": null,
            "justify_items": null,
            "left": null,
            "margin": null,
            "max_height": null,
            "max_width": null,
            "min_height": null,
            "min_width": null,
            "object_fit": null,
            "object_position": null,
            "order": null,
            "overflow": null,
            "overflow_x": null,
            "overflow_y": null,
            "padding": null,
            "right": null,
            "top": null,
            "visibility": null,
            "width": null
          }
        },
        "bd6db2b5e2164a848c226329ea6accc6": {
          "model_module": "@jupyter-widgets/base",
          "model_name": "LayoutModel",
          "model_module_version": "1.2.0",
          "state": {
            "_model_module": "@jupyter-widgets/base",
            "_model_module_version": "1.2.0",
            "_model_name": "LayoutModel",
            "_view_count": null,
            "_view_module": "@jupyter-widgets/base",
            "_view_module_version": "1.2.0",
            "_view_name": "LayoutView",
            "align_content": null,
            "align_items": null,
            "align_self": null,
            "border": null,
            "bottom": null,
            "display": null,
            "flex": null,
            "flex_flow": null,
            "grid_area": null,
            "grid_auto_columns": null,
            "grid_auto_flow": null,
            "grid_auto_rows": null,
            "grid_column": null,
            "grid_gap": null,
            "grid_row": null,
            "grid_template_areas": null,
            "grid_template_columns": null,
            "grid_template_rows": null,
            "height": null,
            "justify_content": null,
            "justify_items": null,
            "left": null,
            "margin": null,
            "max_height": null,
            "max_width": null,
            "min_height": null,
            "min_width": null,
            "object_fit": null,
            "object_position": null,
            "order": null,
            "overflow": null,
            "overflow_x": null,
            "overflow_y": null,
            "padding": null,
            "right": null,
            "top": null,
            "visibility": null,
            "width": null
          }
        },
        "d0b16f20cbb24b3da2d2ab4984fd63fc": {
          "model_module": "@jupyter-widgets/controls",
          "model_name": "DescriptionStyleModel",
          "model_module_version": "1.5.0",
          "state": {
            "_model_module": "@jupyter-widgets/controls",
            "_model_module_version": "1.5.0",
            "_model_name": "DescriptionStyleModel",
            "_view_count": null,
            "_view_module": "@jupyter-widgets/base",
            "_view_module_version": "1.2.0",
            "_view_name": "StyleView",
            "description_width": ""
          }
        },
        "06d779b9ab8d4b92a4719d0e8d27de38": {
          "model_module": "@jupyter-widgets/base",
          "model_name": "LayoutModel",
          "model_module_version": "1.2.0",
          "state": {
            "_model_module": "@jupyter-widgets/base",
            "_model_module_version": "1.2.0",
            "_model_name": "LayoutModel",
            "_view_count": null,
            "_view_module": "@jupyter-widgets/base",
            "_view_module_version": "1.2.0",
            "_view_name": "LayoutView",
            "align_content": null,
            "align_items": null,
            "align_self": null,
            "border": null,
            "bottom": null,
            "display": null,
            "flex": null,
            "flex_flow": null,
            "grid_area": null,
            "grid_auto_columns": null,
            "grid_auto_flow": null,
            "grid_auto_rows": null,
            "grid_column": null,
            "grid_gap": null,
            "grid_row": null,
            "grid_template_areas": null,
            "grid_template_columns": null,
            "grid_template_rows": null,
            "height": null,
            "justify_content": null,
            "justify_items": null,
            "left": null,
            "margin": null,
            "max_height": null,
            "max_width": null,
            "min_height": null,
            "min_width": null,
            "object_fit": null,
            "object_position": null,
            "order": null,
            "overflow": null,
            "overflow_x": null,
            "overflow_y": null,
            "padding": null,
            "right": null,
            "top": null,
            "visibility": null,
            "width": null
          }
        },
        "08a03cde7ded4818af1d4d7fff1c8497": {
          "model_module": "@jupyter-widgets/controls",
          "model_name": "ProgressStyleModel",
          "model_module_version": "1.5.0",
          "state": {
            "_model_module": "@jupyter-widgets/controls",
            "_model_module_version": "1.5.0",
            "_model_name": "ProgressStyleModel",
            "_view_count": null,
            "_view_module": "@jupyter-widgets/base",
            "_view_module_version": "1.2.0",
            "_view_name": "StyleView",
            "bar_color": null,
            "description_width": ""
          }
        },
        "e821ff11080141dbba8ff9ed6009f8c3": {
          "model_module": "@jupyter-widgets/base",
          "model_name": "LayoutModel",
          "model_module_version": "1.2.0",
          "state": {
            "_model_module": "@jupyter-widgets/base",
            "_model_module_version": "1.2.0",
            "_model_name": "LayoutModel",
            "_view_count": null,
            "_view_module": "@jupyter-widgets/base",
            "_view_module_version": "1.2.0",
            "_view_name": "LayoutView",
            "align_content": null,
            "align_items": null,
            "align_self": null,
            "border": null,
            "bottom": null,
            "display": null,
            "flex": null,
            "flex_flow": null,
            "grid_area": null,
            "grid_auto_columns": null,
            "grid_auto_flow": null,
            "grid_auto_rows": null,
            "grid_column": null,
            "grid_gap": null,
            "grid_row": null,
            "grid_template_areas": null,
            "grid_template_columns": null,
            "grid_template_rows": null,
            "height": null,
            "justify_content": null,
            "justify_items": null,
            "left": null,
            "margin": null,
            "max_height": null,
            "max_width": null,
            "min_height": null,
            "min_width": null,
            "object_fit": null,
            "object_position": null,
            "order": null,
            "overflow": null,
            "overflow_x": null,
            "overflow_y": null,
            "padding": null,
            "right": null,
            "top": null,
            "visibility": null,
            "width": null
          }
        },
        "63a650624c6a43249b6d0efed7d129a9": {
          "model_module": "@jupyter-widgets/controls",
          "model_name": "DescriptionStyleModel",
          "model_module_version": "1.5.0",
          "state": {
            "_model_module": "@jupyter-widgets/controls",
            "_model_module_version": "1.5.0",
            "_model_name": "DescriptionStyleModel",
            "_view_count": null,
            "_view_module": "@jupyter-widgets/base",
            "_view_module_version": "1.2.0",
            "_view_name": "StyleView",
            "description_width": ""
          }
        },
        "6aca805cf77c41edbf67e48221ebb650": {
          "model_module": "@jupyter-widgets/controls",
          "model_name": "HBoxModel",
          "model_module_version": "1.5.0",
          "state": {
            "_dom_classes": [],
            "_model_module": "@jupyter-widgets/controls",
            "_model_module_version": "1.5.0",
            "_model_name": "HBoxModel",
            "_view_count": null,
            "_view_module": "@jupyter-widgets/controls",
            "_view_module_version": "1.5.0",
            "_view_name": "HBoxView",
            "box_style": "",
            "children": [
              "IPY_MODEL_3cc47eebcb8a4cc59b8229f8104b06a9",
              "IPY_MODEL_e8e4c7cfda0e4883bc3c02aad89cf035",
              "IPY_MODEL_a12bf876eec74e7fb90781ad30edfe47"
            ],
            "layout": "IPY_MODEL_a8ed34b3ef2745b69d4aaee089f6b235"
          }
        },
        "3cc47eebcb8a4cc59b8229f8104b06a9": {
          "model_module": "@jupyter-widgets/controls",
          "model_name": "HTMLModel",
          "model_module_version": "1.5.0",
          "state": {
            "_dom_classes": [],
            "_model_module": "@jupyter-widgets/controls",
            "_model_module_version": "1.5.0",
            "_model_name": "HTMLModel",
            "_view_count": null,
            "_view_module": "@jupyter-widgets/controls",
            "_view_module_version": "1.5.0",
            "_view_name": "HTMLView",
            "description": "",
            "description_tooltip": null,
            "layout": "IPY_MODEL_75b85b5d11e342db90ce81691b910791",
            "placeholder": "​",
            "style": "IPY_MODEL_63e1e3eab509480ebfaf5340da623b4a",
            "value": "vocab.txt: 100%"
          }
        },
        "e8e4c7cfda0e4883bc3c02aad89cf035": {
          "model_module": "@jupyter-widgets/controls",
          "model_name": "FloatProgressModel",
          "model_module_version": "1.5.0",
          "state": {
            "_dom_classes": [],
            "_model_module": "@jupyter-widgets/controls",
            "_model_module_version": "1.5.0",
            "_model_name": "FloatProgressModel",
            "_view_count": null,
            "_view_module": "@jupyter-widgets/controls",
            "_view_module_version": "1.5.0",
            "_view_name": "ProgressView",
            "bar_style": "success",
            "description": "",
            "description_tooltip": null,
            "layout": "IPY_MODEL_e2596ed0a3354d008bc4bf650c839411",
            "max": 213450,
            "min": 0,
            "orientation": "horizontal",
            "style": "IPY_MODEL_0d8c999824ba4352945f881be18a9d72",
            "value": 213450
          }
        },
        "a12bf876eec74e7fb90781ad30edfe47": {
          "model_module": "@jupyter-widgets/controls",
          "model_name": "HTMLModel",
          "model_module_version": "1.5.0",
          "state": {
            "_dom_classes": [],
            "_model_module": "@jupyter-widgets/controls",
            "_model_module_version": "1.5.0",
            "_model_name": "HTMLModel",
            "_view_count": null,
            "_view_module": "@jupyter-widgets/controls",
            "_view_module_version": "1.5.0",
            "_view_name": "HTMLView",
            "description": "",
            "description_tooltip": null,
            "layout": "IPY_MODEL_e7dab14392b241ec8215f46cb6c6bf85",
            "placeholder": "​",
            "style": "IPY_MODEL_1f6d7315219d43029e81bdcf5ba5257c",
            "value": " 213k/213k [00:00&lt;00:00, 3.54MB/s]"
          }
        },
        "a8ed34b3ef2745b69d4aaee089f6b235": {
          "model_module": "@jupyter-widgets/base",
          "model_name": "LayoutModel",
          "model_module_version": "1.2.0",
          "state": {
            "_model_module": "@jupyter-widgets/base",
            "_model_module_version": "1.2.0",
            "_model_name": "LayoutModel",
            "_view_count": null,
            "_view_module": "@jupyter-widgets/base",
            "_view_module_version": "1.2.0",
            "_view_name": "LayoutView",
            "align_content": null,
            "align_items": null,
            "align_self": null,
            "border": null,
            "bottom": null,
            "display": null,
            "flex": null,
            "flex_flow": null,
            "grid_area": null,
            "grid_auto_columns": null,
            "grid_auto_flow": null,
            "grid_auto_rows": null,
            "grid_column": null,
            "grid_gap": null,
            "grid_row": null,
            "grid_template_areas": null,
            "grid_template_columns": null,
            "grid_template_rows": null,
            "height": null,
            "justify_content": null,
            "justify_items": null,
            "left": null,
            "margin": null,
            "max_height": null,
            "max_width": null,
            "min_height": null,
            "min_width": null,
            "object_fit": null,
            "object_position": null,
            "order": null,
            "overflow": null,
            "overflow_x": null,
            "overflow_y": null,
            "padding": null,
            "right": null,
            "top": null,
            "visibility": null,
            "width": null
          }
        },
        "75b85b5d11e342db90ce81691b910791": {
          "model_module": "@jupyter-widgets/base",
          "model_name": "LayoutModel",
          "model_module_version": "1.2.0",
          "state": {
            "_model_module": "@jupyter-widgets/base",
            "_model_module_version": "1.2.0",
            "_model_name": "LayoutModel",
            "_view_count": null,
            "_view_module": "@jupyter-widgets/base",
            "_view_module_version": "1.2.0",
            "_view_name": "LayoutView",
            "align_content": null,
            "align_items": null,
            "align_self": null,
            "border": null,
            "bottom": null,
            "display": null,
            "flex": null,
            "flex_flow": null,
            "grid_area": null,
            "grid_auto_columns": null,
            "grid_auto_flow": null,
            "grid_auto_rows": null,
            "grid_column": null,
            "grid_gap": null,
            "grid_row": null,
            "grid_template_areas": null,
            "grid_template_columns": null,
            "grid_template_rows": null,
            "height": null,
            "justify_content": null,
            "justify_items": null,
            "left": null,
            "margin": null,
            "max_height": null,
            "max_width": null,
            "min_height": null,
            "min_width": null,
            "object_fit": null,
            "object_position": null,
            "order": null,
            "overflow": null,
            "overflow_x": null,
            "overflow_y": null,
            "padding": null,
            "right": null,
            "top": null,
            "visibility": null,
            "width": null
          }
        },
        "63e1e3eab509480ebfaf5340da623b4a": {
          "model_module": "@jupyter-widgets/controls",
          "model_name": "DescriptionStyleModel",
          "model_module_version": "1.5.0",
          "state": {
            "_model_module": "@jupyter-widgets/controls",
            "_model_module_version": "1.5.0",
            "_model_name": "DescriptionStyleModel",
            "_view_count": null,
            "_view_module": "@jupyter-widgets/base",
            "_view_module_version": "1.2.0",
            "_view_name": "StyleView",
            "description_width": ""
          }
        },
        "e2596ed0a3354d008bc4bf650c839411": {
          "model_module": "@jupyter-widgets/base",
          "model_name": "LayoutModel",
          "model_module_version": "1.2.0",
          "state": {
            "_model_module": "@jupyter-widgets/base",
            "_model_module_version": "1.2.0",
            "_model_name": "LayoutModel",
            "_view_count": null,
            "_view_module": "@jupyter-widgets/base",
            "_view_module_version": "1.2.0",
            "_view_name": "LayoutView",
            "align_content": null,
            "align_items": null,
            "align_self": null,
            "border": null,
            "bottom": null,
            "display": null,
            "flex": null,
            "flex_flow": null,
            "grid_area": null,
            "grid_auto_columns": null,
            "grid_auto_flow": null,
            "grid_auto_rows": null,
            "grid_column": null,
            "grid_gap": null,
            "grid_row": null,
            "grid_template_areas": null,
            "grid_template_columns": null,
            "grid_template_rows": null,
            "height": null,
            "justify_content": null,
            "justify_items": null,
            "left": null,
            "margin": null,
            "max_height": null,
            "max_width": null,
            "min_height": null,
            "min_width": null,
            "object_fit": null,
            "object_position": null,
            "order": null,
            "overflow": null,
            "overflow_x": null,
            "overflow_y": null,
            "padding": null,
            "right": null,
            "top": null,
            "visibility": null,
            "width": null
          }
        },
        "0d8c999824ba4352945f881be18a9d72": {
          "model_module": "@jupyter-widgets/controls",
          "model_name": "ProgressStyleModel",
          "model_module_version": "1.5.0",
          "state": {
            "_model_module": "@jupyter-widgets/controls",
            "_model_module_version": "1.5.0",
            "_model_name": "ProgressStyleModel",
            "_view_count": null,
            "_view_module": "@jupyter-widgets/base",
            "_view_module_version": "1.2.0",
            "_view_name": "StyleView",
            "bar_color": null,
            "description_width": ""
          }
        },
        "e7dab14392b241ec8215f46cb6c6bf85": {
          "model_module": "@jupyter-widgets/base",
          "model_name": "LayoutModel",
          "model_module_version": "1.2.0",
          "state": {
            "_model_module": "@jupyter-widgets/base",
            "_model_module_version": "1.2.0",
            "_model_name": "LayoutModel",
            "_view_count": null,
            "_view_module": "@jupyter-widgets/base",
            "_view_module_version": "1.2.0",
            "_view_name": "LayoutView",
            "align_content": null,
            "align_items": null,
            "align_self": null,
            "border": null,
            "bottom": null,
            "display": null,
            "flex": null,
            "flex_flow": null,
            "grid_area": null,
            "grid_auto_columns": null,
            "grid_auto_flow": null,
            "grid_auto_rows": null,
            "grid_column": null,
            "grid_gap": null,
            "grid_row": null,
            "grid_template_areas": null,
            "grid_template_columns": null,
            "grid_template_rows": null,
            "height": null,
            "justify_content": null,
            "justify_items": null,
            "left": null,
            "margin": null,
            "max_height": null,
            "max_width": null,
            "min_height": null,
            "min_width": null,
            "object_fit": null,
            "object_position": null,
            "order": null,
            "overflow": null,
            "overflow_x": null,
            "overflow_y": null,
            "padding": null,
            "right": null,
            "top": null,
            "visibility": null,
            "width": null
          }
        },
        "1f6d7315219d43029e81bdcf5ba5257c": {
          "model_module": "@jupyter-widgets/controls",
          "model_name": "DescriptionStyleModel",
          "model_module_version": "1.5.0",
          "state": {
            "_model_module": "@jupyter-widgets/controls",
            "_model_module_version": "1.5.0",
            "_model_name": "DescriptionStyleModel",
            "_view_count": null,
            "_view_module": "@jupyter-widgets/base",
            "_view_module_version": "1.2.0",
            "_view_name": "StyleView",
            "description_width": ""
          }
        },
        "af5342cb46c0463790cd0bf95fb4e317": {
          "model_module": "@jupyter-widgets/controls",
          "model_name": "HBoxModel",
          "model_module_version": "1.5.0",
          "state": {
            "_dom_classes": [],
            "_model_module": "@jupyter-widgets/controls",
            "_model_module_version": "1.5.0",
            "_model_name": "HBoxModel",
            "_view_count": null,
            "_view_module": "@jupyter-widgets/controls",
            "_view_module_version": "1.5.0",
            "_view_name": "HBoxView",
            "box_style": "",
            "children": [
              "IPY_MODEL_0df2e33376f84f8ab29191c921d61c52",
              "IPY_MODEL_aa7ac8f9ec7842dc98fc613e33c28896",
              "IPY_MODEL_a4f6d971e7d04c759340bd61003ab0ce"
            ],
            "layout": "IPY_MODEL_260881bebcc64857a96b3620461c4de1"
          }
        },
        "0df2e33376f84f8ab29191c921d61c52": {
          "model_module": "@jupyter-widgets/controls",
          "model_name": "HTMLModel",
          "model_module_version": "1.5.0",
          "state": {
            "_dom_classes": [],
            "_model_module": "@jupyter-widgets/controls",
            "_model_module_version": "1.5.0",
            "_model_name": "HTMLModel",
            "_view_count": null,
            "_view_module": "@jupyter-widgets/controls",
            "_view_module_version": "1.5.0",
            "_view_name": "HTMLView",
            "description": "",
            "description_tooltip": null,
            "layout": "IPY_MODEL_71c9f2070a734d9f937d9bb0558ed0d3",
            "placeholder": "​",
            "style": "IPY_MODEL_e53df4fff3914b15bf1ba61a74047076",
            "value": "tokenizer.json: 100%"
          }
        },
        "aa7ac8f9ec7842dc98fc613e33c28896": {
          "model_module": "@jupyter-widgets/controls",
          "model_name": "FloatProgressModel",
          "model_module_version": "1.5.0",
          "state": {
            "_dom_classes": [],
            "_model_module": "@jupyter-widgets/controls",
            "_model_module_version": "1.5.0",
            "_model_name": "FloatProgressModel",
            "_view_count": null,
            "_view_module": "@jupyter-widgets/controls",
            "_view_module_version": "1.5.0",
            "_view_name": "ProgressView",
            "bar_style": "success",
            "description": "",
            "description_tooltip": null,
            "layout": "IPY_MODEL_5bc997f34c994120912242cca0c7230f",
            "max": 435797,
            "min": 0,
            "orientation": "horizontal",
            "style": "IPY_MODEL_0e13823adb2d46ccb2fd367f50e5dc23",
            "value": 435797
          }
        },
        "a4f6d971e7d04c759340bd61003ab0ce": {
          "model_module": "@jupyter-widgets/controls",
          "model_name": "HTMLModel",
          "model_module_version": "1.5.0",
          "state": {
            "_dom_classes": [],
            "_model_module": "@jupyter-widgets/controls",
            "_model_module_version": "1.5.0",
            "_model_name": "HTMLModel",
            "_view_count": null,
            "_view_module": "@jupyter-widgets/controls",
            "_view_module_version": "1.5.0",
            "_view_name": "HTMLView",
            "description": "",
            "description_tooltip": null,
            "layout": "IPY_MODEL_49ec8cde79f24cc786cc12457e681b18",
            "placeholder": "​",
            "style": "IPY_MODEL_781b8ef92c424fecb132646a9dc99d5a",
            "value": " 436k/436k [00:00&lt;00:00, 7.44MB/s]"
          }
        },
        "260881bebcc64857a96b3620461c4de1": {
          "model_module": "@jupyter-widgets/base",
          "model_name": "LayoutModel",
          "model_module_version": "1.2.0",
          "state": {
            "_model_module": "@jupyter-widgets/base",
            "_model_module_version": "1.2.0",
            "_model_name": "LayoutModel",
            "_view_count": null,
            "_view_module": "@jupyter-widgets/base",
            "_view_module_version": "1.2.0",
            "_view_name": "LayoutView",
            "align_content": null,
            "align_items": null,
            "align_self": null,
            "border": null,
            "bottom": null,
            "display": null,
            "flex": null,
            "flex_flow": null,
            "grid_area": null,
            "grid_auto_columns": null,
            "grid_auto_flow": null,
            "grid_auto_rows": null,
            "grid_column": null,
            "grid_gap": null,
            "grid_row": null,
            "grid_template_areas": null,
            "grid_template_columns": null,
            "grid_template_rows": null,
            "height": null,
            "justify_content": null,
            "justify_items": null,
            "left": null,
            "margin": null,
            "max_height": null,
            "max_width": null,
            "min_height": null,
            "min_width": null,
            "object_fit": null,
            "object_position": null,
            "order": null,
            "overflow": null,
            "overflow_x": null,
            "overflow_y": null,
            "padding": null,
            "right": null,
            "top": null,
            "visibility": null,
            "width": null
          }
        },
        "71c9f2070a734d9f937d9bb0558ed0d3": {
          "model_module": "@jupyter-widgets/base",
          "model_name": "LayoutModel",
          "model_module_version": "1.2.0",
          "state": {
            "_model_module": "@jupyter-widgets/base",
            "_model_module_version": "1.2.0",
            "_model_name": "LayoutModel",
            "_view_count": null,
            "_view_module": "@jupyter-widgets/base",
            "_view_module_version": "1.2.0",
            "_view_name": "LayoutView",
            "align_content": null,
            "align_items": null,
            "align_self": null,
            "border": null,
            "bottom": null,
            "display": null,
            "flex": null,
            "flex_flow": null,
            "grid_area": null,
            "grid_auto_columns": null,
            "grid_auto_flow": null,
            "grid_auto_rows": null,
            "grid_column": null,
            "grid_gap": null,
            "grid_row": null,
            "grid_template_areas": null,
            "grid_template_columns": null,
            "grid_template_rows": null,
            "height": null,
            "justify_content": null,
            "justify_items": null,
            "left": null,
            "margin": null,
            "max_height": null,
            "max_width": null,
            "min_height": null,
            "min_width": null,
            "object_fit": null,
            "object_position": null,
            "order": null,
            "overflow": null,
            "overflow_x": null,
            "overflow_y": null,
            "padding": null,
            "right": null,
            "top": null,
            "visibility": null,
            "width": null
          }
        },
        "e53df4fff3914b15bf1ba61a74047076": {
          "model_module": "@jupyter-widgets/controls",
          "model_name": "DescriptionStyleModel",
          "model_module_version": "1.5.0",
          "state": {
            "_model_module": "@jupyter-widgets/controls",
            "_model_module_version": "1.5.0",
            "_model_name": "DescriptionStyleModel",
            "_view_count": null,
            "_view_module": "@jupyter-widgets/base",
            "_view_module_version": "1.2.0",
            "_view_name": "StyleView",
            "description_width": ""
          }
        },
        "5bc997f34c994120912242cca0c7230f": {
          "model_module": "@jupyter-widgets/base",
          "model_name": "LayoutModel",
          "model_module_version": "1.2.0",
          "state": {
            "_model_module": "@jupyter-widgets/base",
            "_model_module_version": "1.2.0",
            "_model_name": "LayoutModel",
            "_view_count": null,
            "_view_module": "@jupyter-widgets/base",
            "_view_module_version": "1.2.0",
            "_view_name": "LayoutView",
            "align_content": null,
            "align_items": null,
            "align_self": null,
            "border": null,
            "bottom": null,
            "display": null,
            "flex": null,
            "flex_flow": null,
            "grid_area": null,
            "grid_auto_columns": null,
            "grid_auto_flow": null,
            "grid_auto_rows": null,
            "grid_column": null,
            "grid_gap": null,
            "grid_row": null,
            "grid_template_areas": null,
            "grid_template_columns": null,
            "grid_template_rows": null,
            "height": null,
            "justify_content": null,
            "justify_items": null,
            "left": null,
            "margin": null,
            "max_height": null,
            "max_width": null,
            "min_height": null,
            "min_width": null,
            "object_fit": null,
            "object_position": null,
            "order": null,
            "overflow": null,
            "overflow_x": null,
            "overflow_y": null,
            "padding": null,
            "right": null,
            "top": null,
            "visibility": null,
            "width": null
          }
        },
        "0e13823adb2d46ccb2fd367f50e5dc23": {
          "model_module": "@jupyter-widgets/controls",
          "model_name": "ProgressStyleModel",
          "model_module_version": "1.5.0",
          "state": {
            "_model_module": "@jupyter-widgets/controls",
            "_model_module_version": "1.5.0",
            "_model_name": "ProgressStyleModel",
            "_view_count": null,
            "_view_module": "@jupyter-widgets/base",
            "_view_module_version": "1.2.0",
            "_view_name": "StyleView",
            "bar_color": null,
            "description_width": ""
          }
        },
        "49ec8cde79f24cc786cc12457e681b18": {
          "model_module": "@jupyter-widgets/base",
          "model_name": "LayoutModel",
          "model_module_version": "1.2.0",
          "state": {
            "_model_module": "@jupyter-widgets/base",
            "_model_module_version": "1.2.0",
            "_model_name": "LayoutModel",
            "_view_count": null,
            "_view_module": "@jupyter-widgets/base",
            "_view_module_version": "1.2.0",
            "_view_name": "LayoutView",
            "align_content": null,
            "align_items": null,
            "align_self": null,
            "border": null,
            "bottom": null,
            "display": null,
            "flex": null,
            "flex_flow": null,
            "grid_area": null,
            "grid_auto_columns": null,
            "grid_auto_flow": null,
            "grid_auto_rows": null,
            "grid_column": null,
            "grid_gap": null,
            "grid_row": null,
            "grid_template_areas": null,
            "grid_template_columns": null,
            "grid_template_rows": null,
            "height": null,
            "justify_content": null,
            "justify_items": null,
            "left": null,
            "margin": null,
            "max_height": null,
            "max_width": null,
            "min_height": null,
            "min_width": null,
            "object_fit": null,
            "object_position": null,
            "order": null,
            "overflow": null,
            "overflow_x": null,
            "overflow_y": null,
            "padding": null,
            "right": null,
            "top": null,
            "visibility": null,
            "width": null
          }
        },
        "781b8ef92c424fecb132646a9dc99d5a": {
          "model_module": "@jupyter-widgets/controls",
          "model_name": "DescriptionStyleModel",
          "model_module_version": "1.5.0",
          "state": {
            "_model_module": "@jupyter-widgets/controls",
            "_model_module_version": "1.5.0",
            "_model_name": "DescriptionStyleModel",
            "_view_count": null,
            "_view_module": "@jupyter-widgets/base",
            "_view_module_version": "1.2.0",
            "_view_name": "StyleView",
            "description_width": ""
          }
        }
      }
    }
  }
}